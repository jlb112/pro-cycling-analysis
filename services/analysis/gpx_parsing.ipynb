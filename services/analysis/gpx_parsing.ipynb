{
 "cells": [
  {
   "cell_type": "code",
   "execution_count": 1,
   "id": "d6ea4ccf",
   "metadata": {},
   "outputs": [],
   "source": [
    "import os\n",
    "import gpxpy\n",
    "import pandas as pd\n",
    "import numpy as np\n",
    "from haversine import haversine, Unit"
   ]
  },
  {
   "cell_type": "code",
   "execution_count": 2,
   "id": "e42daf3f",
   "metadata": {},
   "outputs": [],
   "source": [
    "# Directory containing GPX files\n",
    "gpx_dir = \"data/gpx_files\"\n",
    "output_dir = \"data/gpx_parsed\"\n",
    "\n",
    "# Ensure the output directory exists\n",
    "os.makedirs(output_dir, exist_ok=True)\n",
    "\n",
    "# Function to calculate haversine distance\n",
    "def haversine_distance(lat1, lon1, lat2, lon2):\n",
    "    return haversine((lat1, lon1), (lat2, lon2), unit=Unit.METERS)\n",
    "\n",
    "# Function to parse a single GPX file and calculate derived fields\n",
    "def parse_gpx_file(file_path):\n",
    "    with open(file_path, 'r') as gpx_file:\n",
    "        gpx = gpxpy.parse(gpx_file)\n",
    "\n",
    "    # Extract metadata (name and link)\n",
    "    name = gpx.name if gpx.name else \"Unknown\"\n",
    "    link = gpx.links[0].href if gpx.links else \"No link\"\n",
    "\n",
    "    # Extract track points\n",
    "    route_info = []\n",
    "    for track in gpx.tracks:\n",
    "        for segment in track.segments:\n",
    "            for point in segment.points:\n",
    "                route_info.append({\n",
    "                    \"latitude\": point.latitude,\n",
    "                    \"longitude\": point.longitude,\n",
    "                    \"elevation\": point.elevation,\n",
    "                    \"time\": point.time,\n",
    "                    \"name\": name,\n",
    "                    \"link\": link\n",
    "                })\n",
    "\n",
    "    # Convert to DataFrame\n",
    "    route_df = pd.DataFrame(route_info)\n",
    "\n",
    "    # Calculate haversine distance between consecutive points\n",
    "    distances = [0]  # First point has no distance\n",
    "    for i in range(1, len(route_df)):\n",
    "        distances.append(haversine_distance(\n",
    "            route_df.iloc[i - 1]['latitude'], route_df.iloc[i - 1]['longitude'],\n",
    "            route_df.iloc[i]['latitude'], route_df.iloc[i]['longitude']\n",
    "        ))\n",
    "    route_df['distance'] = distances\n",
    "\n",
    "    # Calculate elevation difference\n",
    "    route_df['elevation_diff'] = route_df['elevation'].diff().fillna(0)\n",
    "\n",
    "    # Calculate cumulative elevation and cumulative distance\n",
    "    route_df['cum_elevation'] = route_df['elevation_diff'].cumsum()\n",
    "    route_df['cum_distance'] = route_df['distance'].cumsum()\n",
    "\n",
    "    return route_df\n",
    "\n"
   ]
  },
  {
   "cell_type": "code",
   "execution_count": 4,
   "id": "fdee91ec",
   "metadata": {},
   "outputs": [
    {
     "name": "stdout",
     "output_type": "stream",
     "text": [
      "Processing 2017 Abu Dhabi Tour Stage 2.gpx...\n"
     ]
    },
    {
     "ename": "AttributeError",
     "evalue": "'GPX' object has no attribute 'links'",
     "output_type": "error",
     "traceback": [
      "\u001b[31m---------------------------------------------------------------------------\u001b[39m",
      "\u001b[31mAttributeError\u001b[39m                            Traceback (most recent call last)",
      "\u001b[36mCell\u001b[39m\u001b[36m \u001b[39m\u001b[32mIn[4]\u001b[39m\u001b[32m, line 8\u001b[39m\n\u001b[32m      5\u001b[39m \u001b[38;5;28mprint\u001b[39m(\u001b[33mf\u001b[39m\u001b[33m\"\u001b[39m\u001b[33mProcessing \u001b[39m\u001b[38;5;132;01m{\u001b[39;00mfile_name\u001b[38;5;132;01m}\u001b[39;00m\u001b[33m...\u001b[39m\u001b[33m\"\u001b[39m)\n\u001b[32m      7\u001b[39m \u001b[38;5;66;03m# Parse the GPX file and calculate derived fields\u001b[39;00m\n\u001b[32m----> \u001b[39m\u001b[32m8\u001b[39m df = \u001b[43mparse_gpx_file\u001b[49m\u001b[43m(\u001b[49m\u001b[43mfile_path\u001b[49m\u001b[43m)\u001b[49m\n\u001b[32m     10\u001b[39m \u001b[38;5;66;03m# Export to CSV\u001b[39;00m\n\u001b[32m     11\u001b[39m output_file = os.path.join(output_dir, \u001b[33mf\u001b[39m\u001b[33m\"\u001b[39m\u001b[38;5;132;01m{\u001b[39;00mos.path.splitext(file_name)[\u001b[32m0\u001b[39m]\u001b[38;5;132;01m}\u001b[39;00m\u001b[33m.csv\u001b[39m\u001b[33m\"\u001b[39m)\n",
      "\u001b[36mCell\u001b[39m\u001b[36m \u001b[39m\u001b[32mIn[2]\u001b[39m\u001b[32m, line 19\u001b[39m, in \u001b[36mparse_gpx_file\u001b[39m\u001b[34m(file_path)\u001b[39m\n\u001b[32m     17\u001b[39m \u001b[38;5;66;03m# Extract metadata (name and link)\u001b[39;00m\n\u001b[32m     18\u001b[39m name = gpx.name \u001b[38;5;28;01mif\u001b[39;00m gpx.name \u001b[38;5;28;01melse\u001b[39;00m \u001b[33m\"\u001b[39m\u001b[33mUnknown\u001b[39m\u001b[33m\"\u001b[39m\n\u001b[32m---> \u001b[39m\u001b[32m19\u001b[39m link = gpx.links[\u001b[32m0\u001b[39m].href \u001b[38;5;28;01mif\u001b[39;00m \u001b[43mgpx\u001b[49m\u001b[43m.\u001b[49m\u001b[43mlinks\u001b[49m \u001b[38;5;28;01melse\u001b[39;00m \u001b[33m\"\u001b[39m\u001b[33mNo link\u001b[39m\u001b[33m\"\u001b[39m\n\u001b[32m     21\u001b[39m \u001b[38;5;66;03m# Extract track points\u001b[39;00m\n\u001b[32m     22\u001b[39m route_info = []\n",
      "\u001b[31mAttributeError\u001b[39m: 'GPX' object has no attribute 'links'"
     ]
    }
   ],
   "source": [
    "# Iterate over all GPX files in the directory\n",
    "for file_name in os.listdir(gpx_dir):\n",
    "    if file_name.endswith(\"2017 Abu Dhabi Tour Stage 2.gpx\"):\n",
    "        file_path = os.path.join(gpx_dir, file_name)\n",
    "        print(f\"Processing {file_name}...\")\n",
    "\n",
    "        # Parse the GPX file and calculate derived fields\n",
    "        df = parse_gpx_file(file_path)\n",
    "\n",
    "        # Export to CSV\n",
    "        output_file = os.path.join(output_dir, f\"{os.path.splitext(file_name)[0]}.csv\")\n",
    "        df.to_csv(output_file, index=False)\n",
    "        print(f\"Saved to {output_file}\")\n",
    "\n",
    "print(\"All GPX files have been processed.\")"
   ]
  },
  {
   "cell_type": "code",
   "execution_count": null,
   "id": "b17cbca7",
   "metadata": {},
   "outputs": [],
   "source": [
    "# Iterate over all GPX files in the directory\n",
    "for file_name in os.listdir(gpx_dir):\n",
    "    if file_name.endswith(\".gpx\"):\n",
    "        file_path = os.path.join(gpx_dir, file_name)\n",
    "        print(f\"Processing {file_name}...\")\n",
    "\n",
    "        # Parse the GPX file and calculate derived fields\n",
    "        df = parse_gpx_file(file_path)\n",
    "\n",
    "        # Export to CSV\n",
    "        output_file = os.path.join(output_dir, f\"{os.path.splitext(file_name)[0]}.csv\")\n",
    "        df.to_csv(output_file, index=False)\n",
    "        print(f\"Saved to {output_file}\")\n",
    "\n",
    "print(\"All GPX files have been processed.\")"
   ]
  }
 ],
 "metadata": {
  "kernelspec": {
   "display_name": "venv",
   "language": "python",
   "name": "python3"
  },
  "language_info": {
   "codemirror_mode": {
    "name": "ipython",
    "version": 3
   },
   "file_extension": ".py",
   "mimetype": "text/x-python",
   "name": "python",
   "nbconvert_exporter": "python",
   "pygments_lexer": "ipython3",
   "version": "3.12.5"
  }
 },
 "nbformat": 4,
 "nbformat_minor": 5
}
