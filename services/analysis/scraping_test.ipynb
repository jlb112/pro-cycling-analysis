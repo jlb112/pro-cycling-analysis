{
 "cells": [
  {
   "cell_type": "code",
   "execution_count": 43,
   "id": "4b166b18",
   "metadata": {},
   "outputs": [],
   "source": [
    "from procyclingstats import Race\n",
    "race = Race(\"race/amstel-gold-race/2025/result\")"
   ]
  },
  {
   "cell_type": "code",
   "execution_count": 44,
   "id": "6830b7a0",
   "metadata": {},
   "outputs": [
    {
     "data": {
      "text/plain": [
       "{'category': '-',\n",
       " 'edition': 59,\n",
       " 'enddate': '10:43 ',\n",
       " 'is_one_day_race': True,\n",
       " 'name': 'Amstel Gold Race',\n",
       " 'nationality': 'NL',\n",
       " 'prev_editions_select': [{'text': '2025',\n",
       "   'value': 'race/amstel-gold-race/2025/result'},\n",
       "  {'text': '2024', 'value': 'race/amstel-gold-race/2024/result'},\n",
       "  {'text': '2023', 'value': 'race/amstel-gold-race/2023/result'},\n",
       "  {'text': '2022', 'value': 'race/amstel-gold-race/2022/result'},\n",
       "  {'text': '2021', 'value': 'race/amstel-gold-race/2021/result'},\n",
       "  {'text': '2020', 'value': 'race/amstel-gold-race/2020/result'},\n",
       "  {'text': '2019', 'value': 'race/amstel-gold-race/2019/result'},\n",
       "  {'text': '2018', 'value': 'race/amstel-gold-race/2018/result'},\n",
       "  {'text': '2017', 'value': 'race/amstel-gold-race/2017/result'},\n",
       "  {'text': '2016', 'value': 'race/amstel-gold-race/2016/result'},\n",
       "  {'text': '2015', 'value': 'race/amstel-gold-race/2015/result'},\n",
       "  {'text': '2014', 'value': 'race/amstel-gold-race/2014/result'},\n",
       "  {'text': '2013', 'value': 'race/amstel-gold-race/2013/result'},\n",
       "  {'text': '2012', 'value': 'race/amstel-gold-race/2012/result'},\n",
       "  {'text': '2011', 'value': 'race/amstel-gold-race/2011/result'},\n",
       "  {'text': '2010', 'value': 'race/amstel-gold-race/2010/result'},\n",
       "  {'text': '2009', 'value': 'race/amstel-gold-race/2009/result'},\n",
       "  {'text': '2008', 'value': 'race/amstel-gold-race/2008/result'},\n",
       "  {'text': '2007', 'value': 'race/amstel-gold-race/2007/result'},\n",
       "  {'text': '2006', 'value': 'race/amstel-gold-race/2006/result'},\n",
       "  {'text': '2005', 'value': 'race/amstel-gold-race/2005/result'},\n",
       "  {'text': '2004', 'value': 'race/amstel-gold-race/2004/result'},\n",
       "  {'text': '2003', 'value': 'race/amstel-gold-race/2003/result'},\n",
       "  {'text': '2002', 'value': 'race/amstel-gold-race/2002/result'},\n",
       "  {'text': '2001', 'value': 'race/amstel-gold-race/2001/result'},\n",
       "  {'text': '2000', 'value': 'race/amstel-gold-race/2000/result'},\n",
       "  {'text': '1999', 'value': 'race/amstel-gold-race/1999/result'},\n",
       "  {'text': '1998', 'value': 'race/amstel-gold-race/1998/result'},\n",
       "  {'text': '1997', 'value': 'race/amstel-gold-race/1997/result'},\n",
       "  {'text': '1996', 'value': 'race/amstel-gold-race/1996/result'},\n",
       "  {'text': '1995', 'value': 'race/amstel-gold-race/1995/result'},\n",
       "  {'text': '1994', 'value': 'race/amstel-gold-race/1994/result'},\n",
       "  {'text': '1993', 'value': 'race/amstel-gold-race/1993/result'},\n",
       "  {'text': '1992', 'value': 'race/amstel-gold-race/1992/result'},\n",
       "  {'text': '1991', 'value': 'race/amstel-gold-race/1991/result'},\n",
       "  {'text': '1990', 'value': 'race/amstel-gold-race/1990/result'},\n",
       "  {'text': '1989', 'value': 'race/amstel-gold-race/1989/result'},\n",
       "  {'text': '1988', 'value': 'race/amstel-gold-race/1988/result'},\n",
       "  {'text': '1987', 'value': 'race/amstel-gold-race/1987/result'},\n",
       "  {'text': '1986', 'value': 'race/amstel-gold-race/1986/result'},\n",
       "  {'text': '1985', 'value': 'race/amstel-gold-race/1985/result'},\n",
       "  {'text': '1984', 'value': 'race/amstel-gold-race/1984/result'},\n",
       "  {'text': '1983', 'value': 'race/amstel-gold-race/1983/result'},\n",
       "  {'text': '1982', 'value': 'race/amstel-gold-race/1982/result'},\n",
       "  {'text': '1981', 'value': 'race/amstel-gold-race/1981/result'},\n",
       "  {'text': '1980', 'value': 'race/amstel-gold-race/1980/result'},\n",
       "  {'text': '1979', 'value': 'race/amstel-gold-race/1979/result'},\n",
       "  {'text': '1978', 'value': 'race/amstel-gold-race/1978/result'},\n",
       "  {'text': '1977', 'value': 'race/amstel-gold-race/1977/result'},\n",
       "  {'text': '1976', 'value': 'race/amstel-gold-race/1976/result'},\n",
       "  {'text': '1975', 'value': 'race/amstel-gold-race/1975/result'},\n",
       "  {'text': '1974', 'value': 'race/amstel-gold-race/1974/result'},\n",
       "  {'text': '1973', 'value': 'race/amstel-gold-race/1973/result'},\n",
       "  {'text': '1972', 'value': 'race/amstel-gold-race/1972/result'},\n",
       "  {'text': '1971', 'value': 'race/amstel-gold-race/1971/result'},\n",
       "  {'text': '1970', 'value': 'race/amstel-gold-race/1970/result'},\n",
       "  {'text': '1969', 'value': 'race/amstel-gold-race/1969/result'},\n",
       "  {'text': '1968', 'value': 'race/amstel-gold-race/1968/result'},\n",
       "  {'text': '1967', 'value': 'race/amstel-gold-race/1967/result'},\n",
       "  {'text': '1966', 'value': 'race/amstel-gold-race/1966/result'}],\n",
       " 'stages': [],\n",
       " 'stages_winners': [],\n",
       " 'startdate': '20 April 2025',\n",
       " 'uci_tour': '1.UWT',\n",
       " 'year': 2025}"
      ]
     },
     "execution_count": 44,
     "metadata": {},
     "output_type": "execute_result"
    }
   ],
   "source": [
    "race.parse()"
   ]
  },
  {
   "cell_type": "code",
   "execution_count": null,
   "id": "ad30164e",
   "metadata": {},
   "outputs": [],
   "source": [
    "# list of 2025 races\n",
    "# if url contains result - one day race - use url normally\n",
    "\n",
    "# if blank, try result\n",
    "\n",
    "# if not - stage-1 and increment until it doesn't work\n",
    "# stage works on future stages depending on request - can't parse full\n",
    "\n"
   ]
  },
  {
   "cell_type": "code",
   "execution_count": 48,
   "id": "465c7153",
   "metadata": {},
   "outputs": [],
   "source": [
    "from procyclingstats import Stage\n",
    "stage = Stage(\"race/giro-d-italia/2025/stage-1\")"
   ]
  },
  {
   "cell_type": "code",
   "execution_count": 50,
   "id": "18fc04f7",
   "metadata": {},
   "outputs": [
    {
     "data": {
      "text/plain": [
       "91"
      ]
     },
     "execution_count": 50,
     "metadata": {},
     "output_type": "execute_result"
    }
   ],
   "source": [
    "stage.profile_score()"
   ]
  },
  {
   "cell_type": "code",
   "execution_count": 32,
   "id": "bc76fef3",
   "metadata": {},
   "outputs": [
    {
     "name": "stdout",
     "output_type": "stream",
     "text": [
      "Saved Cadel Evans Great Ocean Road Race - Men data as 2025_Cadel Evans Great Ocean Road Race - Men.json\n",
      "Saved Omloop Nieuwsblad ME data as 2025_Omloop Nieuwsblad ME.json\n",
      "Saved Strade Bianche data as 2025_Strade Bianche.json\n",
      "Saved Milano-Sanremo data as 2025_Milano-Sanremo.json\n",
      "Saved Classic Brugge-De Panne ME data as 2025_Classic Brugge-De Panne ME.json\n",
      "Saved E3 Saxo Classic ME data as 2025_E3 Saxo Classic ME.json\n",
      "Saved Gent-Wevelgem in Flanders Fields ME data as 2025_Gent-Wevelgem in Flanders Fields ME.json\n",
      "Saved Dwars door Vlaanderen - A travers la Flandre ME data as 2025_Dwars door Vlaanderen - A travers la Flandre ME.json\n",
      "Saved Ronde van Vlaanderen - Tour des Flandres ME data as 2025_Ronde van Vlaanderen - Tour des Flandres ME.json\n",
      "Saved Paris-Roubaix data as 2025_Paris-Roubaix.json\n"
     ]
    }
   ],
   "source": [
    "import requests\n",
    "import json\n",
    "from procyclingstats import Stage\n",
    "from bs4 import BeautifulSoup\n",
    "\n",
    "# URL of the page to scrape\n",
    "url = \"https://www.procyclingstats.com/races.php\"\n",
    "\n",
    "# Send a GET request to fetch the page content\n",
    "response = requests.get(url)\n",
    "\n",
    "# Check if the request was successful\n",
    "if response.status_code == 200:\n",
    "    # Parse the page content with BeautifulSoup\n",
    "    soup = BeautifulSoup(response.content, 'html.parser')\n",
    "    \n",
    "    # Find the table that contains the races\n",
    "    table = soup.find('table')\n",
    "    \n",
    "    # Find all <a> tags within the table rows\n",
    "    race_links = table.find_all('a')\n",
    "    \n",
    "    # Loop through the <a> tags and extract the URL, race name, and category (result or gc)\n",
    "    races = []\n",
    "    for link in race_links:\n",
    "        # Get the href attribute (URL) and the text (race name)\n",
    "        href = link.get('href')\n",
    "        race_name = link.get_text()\n",
    "        \n",
    "        # Ensure that the href contains the race URL we want\n",
    "        if href and href.startswith('race/'):\n",
    "            # Extract the category based on the URL ending\n",
    "            category = 'result' if href.endswith('result') else 'gc'\n",
    "            \n",
    "            # Append the race information (name, href, category)\n",
    "            if category == 'result':\n",
    "                races.append((race_name, href))\n",
    "    \n",
    "    # Loop through the 'result' races and parse the data using Stage\n",
    "    for race_name, race_url in races:\n",
    "        try:\n",
    "            # Create a Stage object with the race URL\n",
    "            stage = Stage(f\"{race_url}\")\n",
    "            \n",
    "            # Parse the stage data\n",
    "            stage_data = stage.parse()\n",
    "            \n",
    "            # Save the parsed data as a JSON file\n",
    "            with open(f\"data/2025_{race_name}.json\", 'w') as json_file:\n",
    "                json.dump(stage_data, json_file, indent=4)\n",
    "            \n",
    "            print(f\"Saved {race_name} data as 2025_{race_name}.json\")\n",
    "        \n",
    "        except Exception as e:\n",
    "            print(f\"Failed to process {race_name}: {e}\")\n",
    "else:\n",
    "    print(\"Failed to retrieve the webpage. Status code:\", response.status_code)\n",
    "\n"
   ]
  },
  {
   "cell_type": "code",
   "execution_count": 47,
   "id": "3c789bd1",
   "metadata": {},
   "outputs": [
    {
     "name": "stdout",
     "output_type": "stream",
     "text": [
      "ProfileScore: 87\n"
     ]
    }
   ],
   "source": [
    "import requests\n",
    "from bs4 import BeautifulSoup\n",
    "\n",
    "# URL of the race result page\n",
    "url = \"https://www.procyclingstats.com/race/amstel-gold-race/2025/result\"\n",
    "\n",
    "# Send a GET request to fetch the page content\n",
    "response = requests.get(url)\n",
    "\n",
    "# Check if the request was successful\n",
    "if response.status_code == 200:\n",
    "    # Parse the page content with BeautifulSoup\n",
    "    soup = BeautifulSoup(response.content, 'html.parser')\n",
    "    \n",
    "    # Find the <div> element that contains the ProfileScore text\n",
    "    profile_score_div = soup.find('div', string=\"ProfileScore: \")\n",
    "    \n",
    "    if profile_score_div:\n",
    "        # Find the next sibling <div> or element that contains the actual score\n",
    "        profile_score = profile_score_div.find_next('div').get_text(strip=True)\n",
    "        print(f\"ProfileScore: {profile_score}\")\n",
    "    else:\n",
    "        print(\"ProfileScore not found on the page.\")\n",
    "else:\n",
    "    print(f\"Failed to retrieve the webpage. Status code: {response.status_code}\")\n",
    "\n"
   ]
  }
 ],
 "metadata": {
  "kernelspec": {
   "display_name": "venv",
   "language": "python",
   "name": "python3"
  },
  "language_info": {
   "codemirror_mode": {
    "name": "ipython",
    "version": 3
   },
   "file_extension": ".py",
   "mimetype": "text/x-python",
   "name": "python",
   "nbconvert_exporter": "python",
   "pygments_lexer": "ipython3",
   "version": "3.12.5"
  }
 },
 "nbformat": 4,
 "nbformat_minor": 5
}
