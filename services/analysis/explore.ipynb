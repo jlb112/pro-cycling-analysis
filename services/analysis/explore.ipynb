{
 "cells": [
  {
   "cell_type": "code",
   "execution_count": null,
   "id": "bd6fb9bf",
   "metadata": {},
   "outputs": [],
   "source": [
    "\n",
    "import gpxpy\n",
    "import gpxpy.gpx\n",
    "import pandas as pd\n",
    "import matplotlib.pyplot as plt\n",
    "import numpy as np\n",
    "import haversine as hs\n",
    "\n",
    "plt.rcParams['figure.figsize'] = (16, 6)\n",
    "plt.rcParams['axes.spines.top'] = False\n",
    "plt.rcParams['axes.spines.right'] = False"
   ]
  },
  {
   "cell_type": "code",
   "execution_count": 8,
   "id": "e12cad2f",
   "metadata": {},
   "outputs": [],
   "source": [
    "with open('data/gpx_files/2017 Criterium du Dauphine Stage 8.gpx', 'r') as gpx_file:\n",
    "    gpx = gpxpy.parse(gpx_file)"
   ]
  },
  {
   "cell_type": "code",
   "execution_count": 9,
   "id": "dce457d4",
   "metadata": {},
   "outputs": [
    {
     "data": {
      "text/plain": [
       "GPX(tracks=[GPXTrack(name='Criterium du DauphinÃ© 2017 - Stage 8', segments=[GPXTrackSegment(points=[...])])])"
      ]
     },
     "execution_count": 9,
     "metadata": {},
     "output_type": "execute_result"
    }
   ],
   "source": [
    "gpx"
   ]
  },
  {
   "cell_type": "code",
   "execution_count": 10,
   "id": "b7e80398",
   "metadata": {},
   "outputs": [
    {
     "data": {
      "text/plain": [
       "9235"
      ]
     },
     "execution_count": 10,
     "metadata": {},
     "output_type": "execute_result"
    }
   ],
   "source": [
    "gpx.get_track_points_no()"
   ]
  },
  {
   "cell_type": "code",
   "execution_count": 11,
   "id": "19680991",
   "metadata": {},
   "outputs": [
    {
     "data": {
      "text/plain": [
       "MinimumMaximum(minimum=436.0, maximum=1652.0)"
      ]
     },
     "execution_count": 11,
     "metadata": {},
     "output_type": "execute_result"
    }
   ],
   "source": [
    "gpx.get_elevation_extremes()"
   ]
  },
  {
   "cell_type": "code",
   "execution_count": 12,
   "id": "df2fdcbb",
   "metadata": {},
   "outputs": [
    {
     "data": {
      "text/plain": [
       "UphillDownhill(uphill=4100.100000000003, downhill=3040.100000000003)"
      ]
     },
     "execution_count": 12,
     "metadata": {},
     "output_type": "execute_result"
    }
   ],
   "source": [
    "gpx.get_uphill_downhill()"
   ]
  },
  {
   "cell_type": "code",
   "execution_count": 13,
   "id": "3793c7e6",
   "metadata": {},
   "outputs": [
    {
     "data": {
      "text/plain": [
       "115131.40459899796"
      ]
     },
     "execution_count": 13,
     "metadata": {},
     "output_type": "execute_result"
    }
   ],
   "source": [
    "gpx.length_2d()"
   ]
  },
  {
   "cell_type": "code",
   "execution_count": 14,
   "id": "fb792560",
   "metadata": {},
   "outputs": [],
   "source": [
    "route_info = []\n",
    "\n",
    "for track in gpx.tracks:\n",
    "    for segment in track.segments:\n",
    "        for point in segment.points:\n",
    "            route_info.append({\n",
    "                'latitude': point.latitude,\n",
    "                'longitude': point.longitude,\n",
    "                'elevation': point.elevation\n",
    "            })"
   ]
  },
  {
   "cell_type": "code",
   "execution_count": 22,
   "id": "bd9bb67d",
   "metadata": {},
   "outputs": [
    {
     "data": {
      "text/html": [
       "<div>\n",
       "<style scoped>\n",
       "    .dataframe tbody tr th:only-of-type {\n",
       "        vertical-align: middle;\n",
       "    }\n",
       "\n",
       "    .dataframe tbody tr th {\n",
       "        vertical-align: top;\n",
       "    }\n",
       "\n",
       "    .dataframe thead th {\n",
       "        text-align: right;\n",
       "    }\n",
       "</style>\n",
       "<table border=\"1\" class=\"dataframe\">\n",
       "  <thead>\n",
       "    <tr style=\"text-align: right;\">\n",
       "      <th></th>\n",
       "      <th>latitude</th>\n",
       "      <th>longitude</th>\n",
       "      <th>elevation</th>\n",
       "      <th>distance</th>\n",
       "      <th>elevation_diff</th>\n",
       "    </tr>\n",
       "  </thead>\n",
       "  <tbody>\n",
       "    <tr>\n",
       "      <th>0</th>\n",
       "      <td>45.68665</td>\n",
       "      <td>6.40358</td>\n",
       "      <td>437.0</td>\n",
       "      <td>NaN</td>\n",
       "      <td>NaN</td>\n",
       "    </tr>\n",
       "    <tr>\n",
       "      <th>1</th>\n",
       "      <td>45.68673</td>\n",
       "      <td>6.40374</td>\n",
       "      <td>436.0</td>\n",
       "      <td>15.28</td>\n",
       "      <td>-1.0</td>\n",
       "    </tr>\n",
       "    <tr>\n",
       "      <th>2</th>\n",
       "      <td>45.68673</td>\n",
       "      <td>6.40374</td>\n",
       "      <td>436.0</td>\n",
       "      <td>0.00</td>\n",
       "      <td>0.0</td>\n",
       "    </tr>\n",
       "    <tr>\n",
       "      <th>3</th>\n",
       "      <td>45.68679</td>\n",
       "      <td>6.40378</td>\n",
       "      <td>436.0</td>\n",
       "      <td>7.36</td>\n",
       "      <td>0.0</td>\n",
       "    </tr>\n",
       "    <tr>\n",
       "      <th>4</th>\n",
       "      <td>45.68682</td>\n",
       "      <td>6.40382</td>\n",
       "      <td>436.0</td>\n",
       "      <td>4.56</td>\n",
       "      <td>0.0</td>\n",
       "    </tr>\n",
       "  </tbody>\n",
       "</table>\n",
       "</div>"
      ],
      "text/plain": [
       "   latitude  longitude  elevation  distance  elevation_diff\n",
       "0  45.68665    6.40358      437.0       NaN             NaN\n",
       "1  45.68673    6.40374      436.0     15.28            -1.0\n",
       "2  45.68673    6.40374      436.0      0.00             0.0\n",
       "3  45.68679    6.40378      436.0      7.36             0.0\n",
       "4  45.68682    6.40382      436.0      4.56             0.0"
      ]
     },
     "execution_count": 22,
     "metadata": {},
     "output_type": "execute_result"
    }
   ],
   "source": [
    "route_df['elevation_diff'] = route_df['elevation'].diff()\n",
    "\n",
    "route_df.head()"
   ]
  },
  {
   "cell_type": "code",
   "execution_count": 15,
   "id": "5506ca44",
   "metadata": {},
   "outputs": [
    {
     "data": {
      "text/html": [
       "<div>\n",
       "<style scoped>\n",
       "    .dataframe tbody tr th:only-of-type {\n",
       "        vertical-align: middle;\n",
       "    }\n",
       "\n",
       "    .dataframe tbody tr th {\n",
       "        vertical-align: top;\n",
       "    }\n",
       "\n",
       "    .dataframe thead th {\n",
       "        text-align: right;\n",
       "    }\n",
       "</style>\n",
       "<table border=\"1\" class=\"dataframe\">\n",
       "  <thead>\n",
       "    <tr style=\"text-align: right;\">\n",
       "      <th></th>\n",
       "      <th>latitude</th>\n",
       "      <th>longitude</th>\n",
       "      <th>elevation</th>\n",
       "    </tr>\n",
       "  </thead>\n",
       "  <tbody>\n",
       "    <tr>\n",
       "      <th>0</th>\n",
       "      <td>45.68665</td>\n",
       "      <td>6.40358</td>\n",
       "      <td>437.0</td>\n",
       "    </tr>\n",
       "    <tr>\n",
       "      <th>1</th>\n",
       "      <td>45.68673</td>\n",
       "      <td>6.40374</td>\n",
       "      <td>436.0</td>\n",
       "    </tr>\n",
       "    <tr>\n",
       "      <th>2</th>\n",
       "      <td>45.68673</td>\n",
       "      <td>6.40374</td>\n",
       "      <td>436.0</td>\n",
       "    </tr>\n",
       "    <tr>\n",
       "      <th>3</th>\n",
       "      <td>45.68679</td>\n",
       "      <td>6.40378</td>\n",
       "      <td>436.0</td>\n",
       "    </tr>\n",
       "    <tr>\n",
       "      <th>4</th>\n",
       "      <td>45.68682</td>\n",
       "      <td>6.40382</td>\n",
       "      <td>436.0</td>\n",
       "    </tr>\n",
       "  </tbody>\n",
       "</table>\n",
       "</div>"
      ],
      "text/plain": [
       "   latitude  longitude  elevation\n",
       "0  45.68665    6.40358      437.0\n",
       "1  45.68673    6.40374      436.0\n",
       "2  45.68673    6.40374      436.0\n",
       "3  45.68679    6.40378      436.0\n",
       "4  45.68682    6.40382      436.0"
      ]
     },
     "execution_count": 15,
     "metadata": {},
     "output_type": "execute_result"
    }
   ],
   "source": [
    "route_df = pd.DataFrame(route_info)\n",
    "route_df.head()"
   ]
  },
  {
   "cell_type": "code",
   "execution_count": 18,
   "id": "8c0a16e2",
   "metadata": {},
   "outputs": [],
   "source": [
    "def haversine_distance(lat1, lon1, lat2, lon2) -> float:\n",
    "    distance = hs.haversine(\n",
    "        point1=(lat1, lon1),\n",
    "        point2=(lat2, lon2),\n",
    "        unit=hs.Unit.METERS\n",
    "    )\n",
    "    return np.round(distance, 2)"
   ]
  },
  {
   "cell_type": "code",
   "execution_count": 19,
   "id": "50848821",
   "metadata": {},
   "outputs": [
    {
     "data": {
      "text/html": [
       "<div>\n",
       "<style scoped>\n",
       "    .dataframe tbody tr th:only-of-type {\n",
       "        vertical-align: middle;\n",
       "    }\n",
       "\n",
       "    .dataframe tbody tr th {\n",
       "        vertical-align: top;\n",
       "    }\n",
       "\n",
       "    .dataframe thead th {\n",
       "        text-align: right;\n",
       "    }\n",
       "</style>\n",
       "<table border=\"1\" class=\"dataframe\">\n",
       "  <thead>\n",
       "    <tr style=\"text-align: right;\">\n",
       "      <th></th>\n",
       "      <th>latitude</th>\n",
       "      <th>longitude</th>\n",
       "      <th>elevation</th>\n",
       "      <th>distance</th>\n",
       "    </tr>\n",
       "  </thead>\n",
       "  <tbody>\n",
       "    <tr>\n",
       "      <th>0</th>\n",
       "      <td>45.68665</td>\n",
       "      <td>6.40358</td>\n",
       "      <td>437.0</td>\n",
       "      <td>NaN</td>\n",
       "    </tr>\n",
       "    <tr>\n",
       "      <th>1</th>\n",
       "      <td>45.68673</td>\n",
       "      <td>6.40374</td>\n",
       "      <td>436.0</td>\n",
       "      <td>15.28</td>\n",
       "    </tr>\n",
       "    <tr>\n",
       "      <th>2</th>\n",
       "      <td>45.68673</td>\n",
       "      <td>6.40374</td>\n",
       "      <td>436.0</td>\n",
       "      <td>0.00</td>\n",
       "    </tr>\n",
       "    <tr>\n",
       "      <th>3</th>\n",
       "      <td>45.68679</td>\n",
       "      <td>6.40378</td>\n",
       "      <td>436.0</td>\n",
       "      <td>7.36</td>\n",
       "    </tr>\n",
       "    <tr>\n",
       "      <th>4</th>\n",
       "      <td>45.68682</td>\n",
       "      <td>6.40382</td>\n",
       "      <td>436.0</td>\n",
       "      <td>4.56</td>\n",
       "    </tr>\n",
       "  </tbody>\n",
       "</table>\n",
       "</div>"
      ],
      "text/plain": [
       "   latitude  longitude  elevation  distance\n",
       "0  45.68665    6.40358      437.0       NaN\n",
       "1  45.68673    6.40374      436.0     15.28\n",
       "2  45.68673    6.40374      436.0      0.00\n",
       "3  45.68679    6.40378      436.0      7.36\n",
       "4  45.68682    6.40382      436.0      4.56"
      ]
     },
     "execution_count": 19,
     "metadata": {},
     "output_type": "execute_result"
    }
   ],
   "source": [
    "distances = [np.nan]\n",
    "\n",
    "for i in range(len(route_df)):\n",
    "    if i == 0:\n",
    "        continue\n",
    "    else:\n",
    "        distances.append(haversine_distance(\n",
    "            lat1=route_df.iloc[i - 1]['latitude'],\n",
    "            lon1=route_df.iloc[i - 1]['longitude'],\n",
    "            lat2=route_df.iloc[i]['latitude'],\n",
    "            lon2=route_df.iloc[i]['longitude']\n",
    "        ))\n",
    "        \n",
    "route_df['distance'] = distances\n",
    "route_df.head()"
   ]
  },
  {
   "cell_type": "code",
   "execution_count": 23,
   "id": "8dbde027",
   "metadata": {},
   "outputs": [
    {
     "data": {
      "text/html": [
       "<div>\n",
       "<style scoped>\n",
       "    .dataframe tbody tr th:only-of-type {\n",
       "        vertical-align: middle;\n",
       "    }\n",
       "\n",
       "    .dataframe tbody tr th {\n",
       "        vertical-align: top;\n",
       "    }\n",
       "\n",
       "    .dataframe thead th {\n",
       "        text-align: right;\n",
       "    }\n",
       "</style>\n",
       "<table border=\"1\" class=\"dataframe\">\n",
       "  <thead>\n",
       "    <tr style=\"text-align: right;\">\n",
       "      <th></th>\n",
       "      <th>latitude</th>\n",
       "      <th>longitude</th>\n",
       "      <th>elevation</th>\n",
       "      <th>distance</th>\n",
       "      <th>elevation_diff</th>\n",
       "      <th>cum_elevation</th>\n",
       "      <th>cum_distance</th>\n",
       "    </tr>\n",
       "  </thead>\n",
       "  <tbody>\n",
       "    <tr>\n",
       "      <th>0</th>\n",
       "      <td>45.68665</td>\n",
       "      <td>6.40358</td>\n",
       "      <td>437.0</td>\n",
       "      <td>NaN</td>\n",
       "      <td>NaN</td>\n",
       "      <td>NaN</td>\n",
       "      <td>NaN</td>\n",
       "    </tr>\n",
       "    <tr>\n",
       "      <th>1</th>\n",
       "      <td>45.68673</td>\n",
       "      <td>6.40374</td>\n",
       "      <td>436.0</td>\n",
       "      <td>15.28</td>\n",
       "      <td>-1.0</td>\n",
       "      <td>-1.0</td>\n",
       "      <td>15.28</td>\n",
       "    </tr>\n",
       "    <tr>\n",
       "      <th>2</th>\n",
       "      <td>45.68673</td>\n",
       "      <td>6.40374</td>\n",
       "      <td>436.0</td>\n",
       "      <td>0.00</td>\n",
       "      <td>0.0</td>\n",
       "      <td>-1.0</td>\n",
       "      <td>15.28</td>\n",
       "    </tr>\n",
       "    <tr>\n",
       "      <th>3</th>\n",
       "      <td>45.68679</td>\n",
       "      <td>6.40378</td>\n",
       "      <td>436.0</td>\n",
       "      <td>7.36</td>\n",
       "      <td>0.0</td>\n",
       "      <td>-1.0</td>\n",
       "      <td>22.64</td>\n",
       "    </tr>\n",
       "    <tr>\n",
       "      <th>4</th>\n",
       "      <td>45.68682</td>\n",
       "      <td>6.40382</td>\n",
       "      <td>436.0</td>\n",
       "      <td>4.56</td>\n",
       "      <td>0.0</td>\n",
       "      <td>-1.0</td>\n",
       "      <td>27.20</td>\n",
       "    </tr>\n",
       "  </tbody>\n",
       "</table>\n",
       "</div>"
      ],
      "text/plain": [
       "   latitude  longitude  elevation  distance  elevation_diff  cum_elevation  \\\n",
       "0  45.68665    6.40358      437.0       NaN             NaN            NaN   \n",
       "1  45.68673    6.40374      436.0     15.28            -1.0           -1.0   \n",
       "2  45.68673    6.40374      436.0      0.00             0.0           -1.0   \n",
       "3  45.68679    6.40378      436.0      7.36             0.0           -1.0   \n",
       "4  45.68682    6.40382      436.0      4.56             0.0           -1.0   \n",
       "\n",
       "   cum_distance  \n",
       "0           NaN  \n",
       "1         15.28  \n",
       "2         15.28  \n",
       "3         22.64  \n",
       "4         27.20  "
      ]
     },
     "execution_count": 23,
     "metadata": {},
     "output_type": "execute_result"
    }
   ],
   "source": [
    "route_df['cum_elevation'] = route_df['elevation_diff'].cumsum()\n",
    "route_df['cum_distance'] = route_df['distance'].cumsum()\n",
    "\n",
    "route_df.head()"
   ]
  },
  {
   "cell_type": "code",
   "execution_count": 24,
   "id": "d6780fbc",
   "metadata": {},
   "outputs": [
    {
     "data": {
      "text/html": [
       "<div>\n",
       "<style scoped>\n",
       "    .dataframe tbody tr th:only-of-type {\n",
       "        vertical-align: middle;\n",
       "    }\n",
       "\n",
       "    .dataframe tbody tr th {\n",
       "        vertical-align: top;\n",
       "    }\n",
       "\n",
       "    .dataframe thead th {\n",
       "        text-align: right;\n",
       "    }\n",
       "</style>\n",
       "<table border=\"1\" class=\"dataframe\">\n",
       "  <thead>\n",
       "    <tr style=\"text-align: right;\">\n",
       "      <th></th>\n",
       "      <th>latitude</th>\n",
       "      <th>longitude</th>\n",
       "      <th>elevation</th>\n",
       "      <th>distance</th>\n",
       "      <th>elevation_diff</th>\n",
       "      <th>cum_elevation</th>\n",
       "      <th>cum_distance</th>\n",
       "    </tr>\n",
       "  </thead>\n",
       "  <tbody>\n",
       "    <tr>\n",
       "      <th>0</th>\n",
       "      <td>45.68665</td>\n",
       "      <td>6.40358</td>\n",
       "      <td>437.0</td>\n",
       "      <td>0.00</td>\n",
       "      <td>0.0</td>\n",
       "      <td>0.0</td>\n",
       "      <td>0.00</td>\n",
       "    </tr>\n",
       "    <tr>\n",
       "      <th>1</th>\n",
       "      <td>45.68673</td>\n",
       "      <td>6.40374</td>\n",
       "      <td>436.0</td>\n",
       "      <td>15.28</td>\n",
       "      <td>-1.0</td>\n",
       "      <td>-1.0</td>\n",
       "      <td>15.28</td>\n",
       "    </tr>\n",
       "    <tr>\n",
       "      <th>2</th>\n",
       "      <td>45.68673</td>\n",
       "      <td>6.40374</td>\n",
       "      <td>436.0</td>\n",
       "      <td>0.00</td>\n",
       "      <td>0.0</td>\n",
       "      <td>-1.0</td>\n",
       "      <td>15.28</td>\n",
       "    </tr>\n",
       "    <tr>\n",
       "      <th>3</th>\n",
       "      <td>45.68679</td>\n",
       "      <td>6.40378</td>\n",
       "      <td>436.0</td>\n",
       "      <td>7.36</td>\n",
       "      <td>0.0</td>\n",
       "      <td>-1.0</td>\n",
       "      <td>22.64</td>\n",
       "    </tr>\n",
       "    <tr>\n",
       "      <th>4</th>\n",
       "      <td>45.68682</td>\n",
       "      <td>6.40382</td>\n",
       "      <td>436.0</td>\n",
       "      <td>4.56</td>\n",
       "      <td>0.0</td>\n",
       "      <td>-1.0</td>\n",
       "      <td>27.20</td>\n",
       "    </tr>\n",
       "  </tbody>\n",
       "</table>\n",
       "</div>"
      ],
      "text/plain": [
       "   latitude  longitude  elevation  distance  elevation_diff  cum_elevation  \\\n",
       "0  45.68665    6.40358      437.0      0.00             0.0            0.0   \n",
       "1  45.68673    6.40374      436.0     15.28            -1.0           -1.0   \n",
       "2  45.68673    6.40374      436.0      0.00             0.0           -1.0   \n",
       "3  45.68679    6.40378      436.0      7.36             0.0           -1.0   \n",
       "4  45.68682    6.40382      436.0      4.56             0.0           -1.0   \n",
       "\n",
       "   cum_distance  \n",
       "0          0.00  \n",
       "1         15.28  \n",
       "2         15.28  \n",
       "3         22.64  \n",
       "4         27.20  "
      ]
     },
     "execution_count": 24,
     "metadata": {},
     "output_type": "execute_result"
    }
   ],
   "source": [
    "route_df = route_df.fillna(0)\n",
    "\n",
    "route_df.head()"
   ]
  },
  {
   "cell_type": "code",
   "execution_count": 25,
   "id": "fc9e72dc",
   "metadata": {},
   "outputs": [
    {
     "data": {
      "image/png": "[encoded data removed]",
      "text/plain": [
       "<Figure size 1600x600 with 1 Axes>"
      ]
     },
     "metadata": {},
     "output_type": "display_data"
    }
   ],
   "source": [
    "plt.plot(route_df['cum_distance'], route_df['cum_elevation'], color='#101010', lw=3)\n",
    "plt.title('Route elevation profile', size=20)\n",
    "plt.xlabel('Distance in meters', size=14)\n",
    "plt.ylabel('Elevation in meters', size=14);\n",
    "plt.savefig('fig.jpg', dpi=300, bbox_inches='tight')"
   ]
  },
  {
   "cell_type": "code",
   "execution_count": 29,
   "id": "44f283c2",
   "metadata": {},
   "outputs": [],
   "source": [
    "\n",
    "# Import the CSV file into a Pandas DataFrame\n",
    "input_file = \"data/race_results_2017_2023.csv\"\n",
    "df = pd.read_csv(input_file)\n",
    "\n",
    "# Convert the 'Rank' column to numeric, forcing errors to NaN\n",
    "df['Rank'] = pd.to_numeric(df['Rank'], errors='coerce')\n",
    "\n",
    "# Filter the DataFrame where Rank >= 3\n",
    "filtered_df = df[df['Rank'] <= 3]\n",
    "\n",
    "\n"
   ]
  },
  {
   "cell_type": "code",
   "execution_count": 31,
   "id": "7585116f",
   "metadata": {},
   "outputs": [
    {
     "data": {
      "text/html": [
       "<div>\n",
       "<style scoped>\n",
       "    .dataframe tbody tr th:only-of-type {\n",
       "        vertical-align: middle;\n",
       "    }\n",
       "\n",
       "    .dataframe tbody tr th {\n",
       "        vertical-align: top;\n",
       "    }\n",
       "\n",
       "    .dataframe thead th {\n",
       "        text-align: right;\n",
       "    }\n",
       "</style>\n",
       "<table border=\"1\" class=\"dataframe\">\n",
       "  <thead>\n",
       "    <tr style=\"text-align: right;\">\n",
       "      <th></th>\n",
       "      <th>Race Name</th>\n",
       "      <th>Date</th>\n",
       "      <th>Rank</th>\n",
       "      <th>Team</th>\n",
       "      <th>Name</th>\n",
       "      <th>Time</th>\n",
       "      <th>UCI points</th>\n",
       "      <th>PCS points</th>\n",
       "      <th>Team Time Trial</th>\n",
       "      <th>TimeAfterTeamTTT</th>\n",
       "    </tr>\n",
       "  </thead>\n",
       "  <tbody>\n",
       "    <tr>\n",
       "      <th>0</th>\n",
       "      <td>2021 Paris-Mantes Cycliste</td>\n",
       "      <td>17 October 2021</td>\n",
       "      <td>1.0</td>\n",
       "      <td>VC Villefranche Beaujolais</td>\n",
       "      <td>JARNET Maxime</td>\n",
       "      <td>3:53:13</td>\n",
       "      <td>40.0</td>\n",
       "      <td>15.0</td>\n",
       "      <td>0</td>\n",
       "      <td>NaN</td>\n",
       "    </tr>\n",
       "    <tr>\n",
       "      <th>1</th>\n",
       "      <td>2021 Paris-Mantes Cycliste</td>\n",
       "      <td>17 October 2021</td>\n",
       "      <td>2.0</td>\n",
       "      <td>USSA Pavilly Barentin</td>\n",
       "      <td>THÉOT Hugo</td>\n",
       "      <td>0:00</td>\n",
       "      <td>30.0</td>\n",
       "      <td>10.0</td>\n",
       "      <td>0</td>\n",
       "      <td>NaN</td>\n",
       "    </tr>\n",
       "    <tr>\n",
       "      <th>2</th>\n",
       "      <td>2021 Paris-Mantes Cycliste</td>\n",
       "      <td>17 October 2021</td>\n",
       "      <td>3.0</td>\n",
       "      <td>EC Saint-Etienne Loire</td>\n",
       "      <td>LEBRETON Jacques</td>\n",
       "      <td>0:25</td>\n",
       "      <td>25.0</td>\n",
       "      <td>7.0</td>\n",
       "      <td>0</td>\n",
       "      <td>NaN</td>\n",
       "    </tr>\n",
       "    <tr>\n",
       "      <th>91</th>\n",
       "      <td>2021 Paris-Nice Stage 1</td>\n",
       "      <td>07 March 2021</td>\n",
       "      <td>1.0</td>\n",
       "      <td>Deceuninck - Quick Step</td>\n",
       "      <td>BENNETT Sam</td>\n",
       "      <td>3:51:38</td>\n",
       "      <td>60.0</td>\n",
       "      <td>50.0</td>\n",
       "      <td>0</td>\n",
       "      <td>NaN</td>\n",
       "    </tr>\n",
       "    <tr>\n",
       "      <th>92</th>\n",
       "      <td>2021 Paris-Nice Stage 1</td>\n",
       "      <td>07 March 2021</td>\n",
       "      <td>2.0</td>\n",
       "      <td>Groupama - FDJ</td>\n",
       "      <td>DÉMARE Arnaud</td>\n",
       "      <td>0:00</td>\n",
       "      <td>25.0</td>\n",
       "      <td>30.0</td>\n",
       "      <td>0</td>\n",
       "      <td>NaN</td>\n",
       "    </tr>\n",
       "  </tbody>\n",
       "</table>\n",
       "</div>"
      ],
      "text/plain": [
       "                     Race Name             Date  Rank  \\\n",
       "0   2021 Paris-Mantes Cycliste  17 October 2021   1.0   \n",
       "1   2021 Paris-Mantes Cycliste  17 October 2021   2.0   \n",
       "2   2021 Paris-Mantes Cycliste  17 October 2021   3.0   \n",
       "91     2021 Paris-Nice Stage 1    07 March 2021   1.0   \n",
       "92     2021 Paris-Nice Stage 1    07 March 2021   2.0   \n",
       "\n",
       "                          Team              Name     Time  UCI points  \\\n",
       "0   VC Villefranche Beaujolais     JARNET Maxime  3:53:13        40.0   \n",
       "1        USSA Pavilly Barentin        THÉOT Hugo     0:00        30.0   \n",
       "2       EC Saint-Etienne Loire  LEBRETON Jacques     0:25        25.0   \n",
       "91     Deceuninck - Quick Step       BENNETT Sam  3:51:38        60.0   \n",
       "92              Groupama - FDJ     DÉMARE Arnaud     0:00        25.0   \n",
       "\n",
       "    PCS points  Team Time Trial TimeAfterTeamTTT  \n",
       "0         15.0                0              NaN  \n",
       "1         10.0                0              NaN  \n",
       "2          7.0                0              NaN  \n",
       "91        50.0                0              NaN  \n",
       "92        30.0                0              NaN  "
      ]
     },
     "execution_count": 31,
     "metadata": {},
     "output_type": "execute_result"
    }
   ],
   "source": [
    "filtered_df.head()"
   ]
  },
  {
   "cell_type": "code",
   "execution_count": 32,
   "id": "2e297596",
   "metadata": {},
   "outputs": [
    {
     "name": "stdout",
     "output_type": "stream",
     "text": [
      "Filtered data has been saved to data/race_results_top3.csv\n"
     ]
    }
   ],
   "source": [
    "\n",
    "# Export the filtered DataFrame to a new CSV file\n",
    "output_file = \"data/race_results_top3.csv\"\n",
    "filtered_df.to_csv(output_file, index=False)\n",
    "\n",
    "print(f\"Filtered data has been saved to {output_file}\")"
   ]
  }
 ],
 "metadata": {
  "kernelspec": {
   "display_name": "venv",
   "language": "python",
   "name": "python3"
  },
  "language_info": {
   "codemirror_mode": {
    "name": "ipython",
    "version": 3
   },
   "file_extension": ".py",
   "mimetype": "text/x-python",
   "name": "python",
   "nbconvert_exporter": "python",
   "pygments_lexer": "ipython3",
   "version": "3.12.5"
  }
 },
 "nbformat": 4,
 "nbformat_minor": 5
}
