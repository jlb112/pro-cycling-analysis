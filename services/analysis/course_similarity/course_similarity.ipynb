{
 "cells": [
  {
   "cell_type": "code",
   "execution_count": 1,
   "id": "8ce3ac9b",
   "metadata": {},
   "outputs": [],
   "source": [
    "import os\n",
    "import glob\n",
    "import numpy as np\n",
    "import pandas as pd\n",
    "from scipy.interpolate import interp1d\n",
    "from tqdm import tqdm\n"
   ]
  },
  {
   "cell_type": "code",
   "execution_count": 3,
   "id": "1eb7836c",
   "metadata": {},
   "outputs": [],
   "source": [
    "def smooth_elevation(df, spacing=50):\n",
    "    cum_distance = df['cum_distance'].values\n",
    "    elevation = df['elevation'].values\n",
    "\n",
    "    # Step 1: Remove consecutive duplicate cum_distance values\n",
    "    diff = np.diff(cum_distance, prepend=cum_distance[0] - 1)\n",
    "    mask = diff > 0\n",
    "    cum_distance = cum_distance[mask]\n",
    "    elevation = elevation[mask]\n",
    "\n",
    "    if len(cum_distance) < 2 or cum_distance[-1] - cum_distance[0] < spacing:\n",
    "        raise ValueError(\"Not enough cumulative distance to resample\")\n",
    "\n",
    "    # Step 2: Interpolate elevation at uniform spacing\n",
    "    new_distances = np.arange(cum_distance[0], cum_distance[-1], spacing)\n",
    "    if len(new_distances) < 2:\n",
    "        raise ValueError(\"Resampling resulted in too few points\")\n",
    "\n",
    "    interp_func = interp1d(cum_distance, elevation, kind='linear', fill_value=\"extrapolate\")\n",
    "    new_elevation = interp_func(new_distances)\n",
    "\n",
    "    return pd.DataFrame({'cum_distance': new_distances, 'elevation': new_elevation})\n",
    "\n"
   ]
  },
  {
   "cell_type": "code",
   "execution_count": 4,
   "id": "2e5eee4c",
   "metadata": {},
   "outputs": [],
   "source": [
    "def compute_profile_features(df):\n",
    "    if df.empty or len(df) < 2:\n",
    "        raise ValueError(\"Insufficient data after smoothing\")\n",
    "\n",
    "    elevation = df['elevation'].values\n",
    "    cum_distance = df['cum_distance'].values\n",
    "\n",
    "    total_distance = cum_distance[-1]\n",
    "    delta_elevation = np.diff(elevation)\n",
    "    delta_distance = np.diff(cum_distance)\n",
    "\n",
    "    delta_distance = np.where(delta_distance == 0, 1e-6, delta_distance)\n",
    "    gradients = (delta_elevation / delta_distance) * 100  # %\n",
    "\n",
    "    if gradients.size == 0:\n",
    "        raise ValueError(\"No gradients to compute\")\n",
    "\n",
    "    climbing_sections = gradients[gradients > 3]\n",
    "    descending_sections = gradients[gradients < -3]\n",
    "\n",
    "    return {\n",
    "        \"total_distance_m\": total_distance,\n",
    "        \"elevation_gain_m\": np.sum(np.clip(delta_elevation, 0, None)),\n",
    "        \"elevation_loss_m\": -np.sum(np.clip(delta_elevation, None, 0)),\n",
    "        \"avg_gradient_pct\": np.mean(gradients),\n",
    "        \"max_gradient_pct\": np.max(gradients),\n",
    "        \"std_gradient_pct\": np.std(gradients),\n",
    "        \"avg_uphill_gradient_pct\": np.mean(climbing_sections) if len(climbing_sections) else 0,\n",
    "        \"avg_downhill_gradient_pct\": np.mean(descending_sections) if len(descending_sections) else 0,\n",
    "        \"climbing_proportion\": len(climbing_sections) / len(gradients),\n",
    "        \"descending_proportion\": len(descending_sections) / len(gradients),\n",
    "    }\n",
    "\n"
   ]
  },
  {
   "cell_type": "code",
   "execution_count": 5,
   "id": "2162cbf7",
   "metadata": {},
   "outputs": [
    {
     "name": "stderr",
     "output_type": "stream",
     "text": [
      "  9%|▉         | 757/8093 [00:09<01:34, 77.30it/s]\n"
     ]
    },
    {
     "ename": "KeyboardInterrupt",
     "evalue": "",
     "output_type": "error",
     "traceback": [
      "\u001b[31m---------------------------------------------------------------------------\u001b[39m",
      "\u001b[31mKeyboardInterrupt\u001b[39m                         Traceback (most recent call last)",
      "\u001b[36mCell\u001b[39m\u001b[36m \u001b[39m\u001b[32mIn[5]\u001b[39m\u001b[32m, line 11\u001b[39m\n\u001b[32m      9\u001b[39m \u001b[38;5;28;01mtry\u001b[39;00m:\n\u001b[32m     10\u001b[39m     path = os.path.join(data_dir, file)\n\u001b[32m---> \u001b[39m\u001b[32m11\u001b[39m     df = \u001b[43mpd\u001b[49m\u001b[43m.\u001b[49m\u001b[43mread_csv\u001b[49m\u001b[43m(\u001b[49m\u001b[43mpath\u001b[49m\u001b[43m)\u001b[49m\n\u001b[32m     13\u001b[39m     required_cols = {\u001b[33m'\u001b[39m\u001b[33melevation\u001b[39m\u001b[33m'\u001b[39m, \u001b[33m'\u001b[39m\u001b[33mcum_distance\u001b[39m\u001b[33m'\u001b[39m, \u001b[33m'\u001b[39m\u001b[33mname\u001b[39m\u001b[33m'\u001b[39m}\n\u001b[32m     14\u001b[39m     \u001b[38;5;28;01mif\u001b[39;00m \u001b[38;5;129;01mnot\u001b[39;00m required_cols.issubset(df.columns):\n",
      "\u001b[36mFile \u001b[39m\u001b[32mc:\\Users\\JBrea\\pro-cycling-analysis\\venv\\Lib\\site-packages\\pandas\\io\\parsers\\readers.py:1026\u001b[39m, in \u001b[36mread_csv\u001b[39m\u001b[34m(filepath_or_buffer, sep, delimiter, header, names, index_col, usecols, dtype, engine, converters, true_values, false_values, skipinitialspace, skiprows, skipfooter, nrows, na_values, keep_default_na, na_filter, verbose, skip_blank_lines, parse_dates, infer_datetime_format, keep_date_col, date_parser, date_format, dayfirst, cache_dates, iterator, chunksize, compression, thousands, decimal, lineterminator, quotechar, quoting, doublequote, escapechar, comment, encoding, encoding_errors, dialect, on_bad_lines, delim_whitespace, low_memory, memory_map, float_precision, storage_options, dtype_backend)\u001b[39m\n\u001b[32m   1013\u001b[39m kwds_defaults = _refine_defaults_read(\n\u001b[32m   1014\u001b[39m     dialect,\n\u001b[32m   1015\u001b[39m     delimiter,\n\u001b[32m   (...)\u001b[39m\u001b[32m   1022\u001b[39m     dtype_backend=dtype_backend,\n\u001b[32m   1023\u001b[39m )\n\u001b[32m   1024\u001b[39m kwds.update(kwds_defaults)\n\u001b[32m-> \u001b[39m\u001b[32m1026\u001b[39m \u001b[38;5;28;01mreturn\u001b[39;00m \u001b[43m_read\u001b[49m\u001b[43m(\u001b[49m\u001b[43mfilepath_or_buffer\u001b[49m\u001b[43m,\u001b[49m\u001b[43m \u001b[49m\u001b[43mkwds\u001b[49m\u001b[43m)\u001b[49m\n",
      "\u001b[36mFile \u001b[39m\u001b[32mc:\\Users\\JBrea\\pro-cycling-analysis\\venv\\Lib\\site-packages\\pandas\\io\\parsers\\readers.py:620\u001b[39m, in \u001b[36m_read\u001b[39m\u001b[34m(filepath_or_buffer, kwds)\u001b[39m\n\u001b[32m    617\u001b[39m _validate_names(kwds.get(\u001b[33m\"\u001b[39m\u001b[33mnames\u001b[39m\u001b[33m\"\u001b[39m, \u001b[38;5;28;01mNone\u001b[39;00m))\n\u001b[32m    619\u001b[39m \u001b[38;5;66;03m# Create the parser.\u001b[39;00m\n\u001b[32m--> \u001b[39m\u001b[32m620\u001b[39m parser = \u001b[43mTextFileReader\u001b[49m\u001b[43m(\u001b[49m\u001b[43mfilepath_or_buffer\u001b[49m\u001b[43m,\u001b[49m\u001b[43m \u001b[49m\u001b[43m*\u001b[49m\u001b[43m*\u001b[49m\u001b[43mkwds\u001b[49m\u001b[43m)\u001b[49m\n\u001b[32m    622\u001b[39m \u001b[38;5;28;01mif\u001b[39;00m chunksize \u001b[38;5;129;01mor\u001b[39;00m iterator:\n\u001b[32m    623\u001b[39m     \u001b[38;5;28;01mreturn\u001b[39;00m parser\n",
      "\u001b[36mFile \u001b[39m\u001b[32mc:\\Users\\JBrea\\pro-cycling-analysis\\venv\\Lib\\site-packages\\pandas\\io\\parsers\\readers.py:1620\u001b[39m, in \u001b[36mTextFileReader.__init__\u001b[39m\u001b[34m(self, f, engine, **kwds)\u001b[39m\n\u001b[32m   1617\u001b[39m     \u001b[38;5;28mself\u001b[39m.options[\u001b[33m\"\u001b[39m\u001b[33mhas_index_names\u001b[39m\u001b[33m\"\u001b[39m] = kwds[\u001b[33m\"\u001b[39m\u001b[33mhas_index_names\u001b[39m\u001b[33m\"\u001b[39m]\n\u001b[32m   1619\u001b[39m \u001b[38;5;28mself\u001b[39m.handles: IOHandles | \u001b[38;5;28;01mNone\u001b[39;00m = \u001b[38;5;28;01mNone\u001b[39;00m\n\u001b[32m-> \u001b[39m\u001b[32m1620\u001b[39m \u001b[38;5;28mself\u001b[39m._engine = \u001b[38;5;28;43mself\u001b[39;49m\u001b[43m.\u001b[49m\u001b[43m_make_engine\u001b[49m\u001b[43m(\u001b[49m\u001b[43mf\u001b[49m\u001b[43m,\u001b[49m\u001b[43m \u001b[49m\u001b[38;5;28;43mself\u001b[39;49m\u001b[43m.\u001b[49m\u001b[43mengine\u001b[49m\u001b[43m)\u001b[49m\n",
      "\u001b[36mFile \u001b[39m\u001b[32mc:\\Users\\JBrea\\pro-cycling-analysis\\venv\\Lib\\site-packages\\pandas\\io\\parsers\\readers.py:1898\u001b[39m, in \u001b[36mTextFileReader._make_engine\u001b[39m\u001b[34m(self, f, engine)\u001b[39m\n\u001b[32m   1895\u001b[39m     \u001b[38;5;28;01mraise\u001b[39;00m \u001b[38;5;167;01mValueError\u001b[39;00m(msg)\n\u001b[32m   1897\u001b[39m \u001b[38;5;28;01mtry\u001b[39;00m:\n\u001b[32m-> \u001b[39m\u001b[32m1898\u001b[39m     \u001b[38;5;28;01mreturn\u001b[39;00m \u001b[43mmapping\u001b[49m\u001b[43m[\u001b[49m\u001b[43mengine\u001b[49m\u001b[43m]\u001b[49m\u001b[43m(\u001b[49m\u001b[43mf\u001b[49m\u001b[43m,\u001b[49m\u001b[43m \u001b[49m\u001b[43m*\u001b[49m\u001b[43m*\u001b[49m\u001b[38;5;28;43mself\u001b[39;49m\u001b[43m.\u001b[49m\u001b[43moptions\u001b[49m\u001b[43m)\u001b[49m\n\u001b[32m   1899\u001b[39m \u001b[38;5;28;01mexcept\u001b[39;00m \u001b[38;5;167;01mException\u001b[39;00m:\n\u001b[32m   1900\u001b[39m     \u001b[38;5;28;01mif\u001b[39;00m \u001b[38;5;28mself\u001b[39m.handles \u001b[38;5;129;01mis\u001b[39;00m \u001b[38;5;129;01mnot\u001b[39;00m \u001b[38;5;28;01mNone\u001b[39;00m:\n",
      "\u001b[36mFile \u001b[39m\u001b[32mc:\\Users\\JBrea\\pro-cycling-analysis\\venv\\Lib\\site-packages\\pandas\\io\\parsers\\c_parser_wrapper.py:93\u001b[39m, in \u001b[36mCParserWrapper.__init__\u001b[39m\u001b[34m(self, src, **kwds)\u001b[39m\n\u001b[32m     90\u001b[39m \u001b[38;5;28;01mif\u001b[39;00m kwds[\u001b[33m\"\u001b[39m\u001b[33mdtype_backend\u001b[39m\u001b[33m\"\u001b[39m] == \u001b[33m\"\u001b[39m\u001b[33mpyarrow\u001b[39m\u001b[33m\"\u001b[39m:\n\u001b[32m     91\u001b[39m     \u001b[38;5;66;03m# Fail here loudly instead of in cython after reading\u001b[39;00m\n\u001b[32m     92\u001b[39m     import_optional_dependency(\u001b[33m\"\u001b[39m\u001b[33mpyarrow\u001b[39m\u001b[33m\"\u001b[39m)\n\u001b[32m---> \u001b[39m\u001b[32m93\u001b[39m \u001b[38;5;28mself\u001b[39m._reader = \u001b[43mparsers\u001b[49m\u001b[43m.\u001b[49m\u001b[43mTextReader\u001b[49m\u001b[43m(\u001b[49m\u001b[43msrc\u001b[49m\u001b[43m,\u001b[49m\u001b[43m \u001b[49m\u001b[43m*\u001b[49m\u001b[43m*\u001b[49m\u001b[43mkwds\u001b[49m\u001b[43m)\u001b[49m\n\u001b[32m     95\u001b[39m \u001b[38;5;28mself\u001b[39m.unnamed_cols = \u001b[38;5;28mself\u001b[39m._reader.unnamed_cols\n\u001b[32m     97\u001b[39m \u001b[38;5;66;03m# error: Cannot determine type of 'names'\u001b[39;00m\n",
      "\u001b[31mKeyboardInterrupt\u001b[39m: "
     ]
    }
   ],
   "source": [
    "# Directory containing .csvs\n",
    "data_dir = \"data/gpx_parsed\"\n",
    "results = []\n",
    "skipped = []\n",
    "\n",
    "for file in tqdm(os.listdir(data_dir)):\n",
    "    if not file.endswith(\".csv\"):\n",
    "        continue\n",
    "    try:\n",
    "        path = os.path.join(data_dir, file)\n",
    "        df = pd.read_csv(path)\n",
    "\n",
    "        required_cols = {'elevation', 'cum_distance', 'name'}\n",
    "        if not required_cols.issubset(df.columns):\n",
    "            raise ValueError(\"Missing required columns\")\n",
    "\n",
    "        if len(df) < 10:\n",
    "            raise ValueError(\"Too few points\")\n",
    "\n",
    "        smoothed = smooth_elevation(df)\n",
    "        features = compute_profile_features(smoothed)\n",
    "        features['name'] = df['name'].iloc[0].strip().lower()\n",
    "        results.append(features)\n",
    "\n",
    "    except Exception as e:\n",
    "        skipped.append((file, str(e)))\n",
    "\n",
    "# Convert to DataFrame\n",
    "feature_df = pd.DataFrame(results)\n",
    "\n",
    "# Save to file\n",
    "feature_df.to_csv(\"race_profile_features.csv\", index=False)\n",
    "\n",
    "# Print summary\n",
    "print(f\"\\n✅ Processed {len(results)} races\")\n",
    "print(f\"⚠️ Skipped {len(skipped)} files\")\n",
    "if skipped:\n",
    "    print(\"\\nSome skipped files:\")\n",
    "    for f, reason in skipped[:10]:\n",
    "        print(f\"- {f}: {reason}\")"
   ]
  },
  {
   "cell_type": "code",
   "execution_count": 6,
   "id": "6b669c55",
   "metadata": {},
   "outputs": [
    {
     "name": "stdout",
     "output_type": "stream",
     "text": [
      "Index(['Unnamed: 0', 'Race Name', 'Distance', 'Street', 'Road', 'Paved',\n",
      "       'Asphalt', 'Path', 'Cycleway', 'Unpaved', 'State Road', 'Cobblestones',\n",
      "       'Unknown', 'Compacted Gravel', 'Off-grid (unknown)', 'Singletrack',\n",
      "       'Access Road', 'Alpine', 'Net Gain', 'Lowest Elevation',\n",
      "       'Highest Elevation', 'Vertical Gain', 'Downhill'],\n",
      "      dtype='object')\n"
     ]
    }
   ],
   "source": [
    "# Load the structured course data\n",
    "structured_course_data = pd.read_csv('data/structured_course_data.csv')\n",
    "\n",
    "# Let's assume the structured_course_data has columns like:\n",
    "# 'path_proportion', 'cycleway_proportion', 'cobble_proportion', etc.\n",
    "\n",
    "# Check the columns in the structured_course_data\n",
    "print(structured_course_data.columns)\n",
    "\n"
   ]
  },
  {
   "cell_type": "code",
   "execution_count": 7,
   "id": "edb17089",
   "metadata": {},
   "outputs": [],
   "source": [
    "structured_course_data = structured_course_data.drop(columns=['Net Gain', 'Lowest Elevation',\n",
    "       'Highest Elevation', 'Vertical Gain', 'Downhill'])\n",
    "\n"
   ]
  },
  {
   "cell_type": "code",
   "execution_count": 23,
   "id": "4cfa4ff3",
   "metadata": {},
   "outputs": [
    {
     "name": "stdout",
     "output_type": "stream",
     "text": [
      "Index(['Unnamed: 0', 'Race Name', 'pct_distance', 'pct_street', 'pct_road',\n",
      "       'pct_paved', 'pct_asphalt', 'pct_path', 'pct_cycleway', 'pct_unpaved',\n",
      "       'pct_state_road', 'pct_cobblestones', 'pct_unknown',\n",
      "       'pct_compacted_gravel', 'pct_off_grid', 'pct_singletrack',\n",
      "       'pct_access_road', 'pct_alpine'],\n",
      "      dtype='object')\n"
     ]
    }
   ],
   "source": [
    "print(structured_course_data.columns)"
   ]
  },
  {
   "cell_type": "code",
   "execution_count": 8,
   "id": "6dcd0879",
   "metadata": {},
   "outputs": [],
   "source": [
    "# Optionally rename columns to make them more consistent if needed:\n",
    "structured_course_data = structured_course_data.rename(columns={\n",
    "    'Distance':'pct_distance',\n",
    "    'Street':'pct_street',\n",
    "    'Road':'pct_road',\n",
    "    'Paved':'pct_paved',\n",
    "    'Asphalt':'pct_asphalt', \n",
    "    'Path':'pct_path', \n",
    "    'Cycleway':'pct_cycleway',\n",
    "    'Unpaved':'pct_unpaved',\n",
    "    'State Road':'pct_state_road',\n",
    "    'Cobblestones':'pct_cobblestones',\n",
    "    'Unknown':'pct_unknown',\n",
    "    'Dirt':'pct_dirt', \n",
    "    'Compacted Gravel':'pct_compacted_gravel',\n",
    "    'Off-grid (unknown)':'pct_off_grid',\n",
    "    'Singletrack':'pct_singletrack',\n",
    "    'Access Road': 'pct_access_road',\n",
    "     'Alpine': 'pct_alpine'\n",
    "    # Add more columns as necessary\n",
    "})\n"
   ]
  },
  {
   "cell_type": "code",
   "execution_count": 9,
   "id": "f02b0788",
   "metadata": {},
   "outputs": [
    {
     "data": {
      "text/html": [
       "<div>\n",
       "<style scoped>\n",
       "    .dataframe tbody tr th:only-of-type {\n",
       "        vertical-align: middle;\n",
       "    }\n",
       "\n",
       "    .dataframe tbody tr th {\n",
       "        vertical-align: top;\n",
       "    }\n",
       "\n",
       "    .dataframe thead th {\n",
       "        text-align: right;\n",
       "    }\n",
       "</style>\n",
       "<table border=\"1\" class=\"dataframe\">\n",
       "  <thead>\n",
       "    <tr style=\"text-align: right;\">\n",
       "      <th></th>\n",
       "      <th>Unnamed: 0</th>\n",
       "      <th>Race Name</th>\n",
       "      <th>pct_distance</th>\n",
       "      <th>pct_street</th>\n",
       "      <th>pct_road</th>\n",
       "      <th>pct_paved</th>\n",
       "      <th>pct_asphalt</th>\n",
       "      <th>pct_path</th>\n",
       "      <th>pct_cycleway</th>\n",
       "      <th>pct_unpaved</th>\n",
       "      <th>pct_state_road</th>\n",
       "      <th>pct_cobblestones</th>\n",
       "      <th>pct_unknown</th>\n",
       "      <th>pct_compacted_gravel</th>\n",
       "      <th>pct_off_grid</th>\n",
       "      <th>pct_singletrack</th>\n",
       "      <th>pct_access_road</th>\n",
       "      <th>pct_alpine</th>\n",
       "    </tr>\n",
       "  </thead>\n",
       "  <tbody>\n",
       "    <tr>\n",
       "      <th>0</th>\n",
       "      <td>0</td>\n",
       "      <td>2022 a travers les hauts de france</td>\n",
       "      <td>117.440</td>\n",
       "      <td>2.44</td>\n",
       "      <td>115.0</td>\n",
       "      <td>11.50</td>\n",
       "      <td>106.0</td>\n",
       "      <td>NaN</td>\n",
       "      <td>NaN</td>\n",
       "      <td>NaN</td>\n",
       "      <td>NaN</td>\n",
       "      <td>NaN</td>\n",
       "      <td>NaN</td>\n",
       "      <td>NaN</td>\n",
       "      <td>NaN</td>\n",
       "      <td>NaN</td>\n",
       "      <td>NaN</td>\n",
       "      <td>NaN</td>\n",
       "    </tr>\n",
       "    <tr>\n",
       "      <th>1</th>\n",
       "      <td>1</td>\n",
       "      <td>2022 ag tour de la semois stage 1</td>\n",
       "      <td>110.560</td>\n",
       "      <td>1.56</td>\n",
       "      <td>109.0</td>\n",
       "      <td>14.40</td>\n",
       "      <td>96.1</td>\n",
       "      <td>NaN</td>\n",
       "      <td>NaN</td>\n",
       "      <td>NaN</td>\n",
       "      <td>NaN</td>\n",
       "      <td>NaN</td>\n",
       "      <td>NaN</td>\n",
       "      <td>NaN</td>\n",
       "      <td>NaN</td>\n",
       "      <td>NaN</td>\n",
       "      <td>NaN</td>\n",
       "      <td>NaN</td>\n",
       "    </tr>\n",
       "    <tr>\n",
       "      <th>2</th>\n",
       "      <td>2</td>\n",
       "      <td>2022 ag tour de la semois stage 2</td>\n",
       "      <td>113.260</td>\n",
       "      <td>5.55</td>\n",
       "      <td>101.0</td>\n",
       "      <td>11.60</td>\n",
       "      <td>101.0</td>\n",
       "      <td>2.68</td>\n",
       "      <td>4.030</td>\n",
       "      <td>1.02</td>\n",
       "      <td>NaN</td>\n",
       "      <td>NaN</td>\n",
       "      <td>NaN</td>\n",
       "      <td>NaN</td>\n",
       "      <td>NaN</td>\n",
       "      <td>NaN</td>\n",
       "      <td>NaN</td>\n",
       "      <td>NaN</td>\n",
       "    </tr>\n",
       "    <tr>\n",
       "      <th>3</th>\n",
       "      <td>3</td>\n",
       "      <td>2022 ain bugey valromey tour stage 1</td>\n",
       "      <td>104.283</td>\n",
       "      <td>NaN</td>\n",
       "      <td>88.5</td>\n",
       "      <td>3.45</td>\n",
       "      <td>101.0</td>\n",
       "      <td>NaN</td>\n",
       "      <td>0.983</td>\n",
       "      <td>NaN</td>\n",
       "      <td>14.80</td>\n",
       "      <td>NaN</td>\n",
       "      <td>NaN</td>\n",
       "      <td>NaN</td>\n",
       "      <td>NaN</td>\n",
       "      <td>NaN</td>\n",
       "      <td>NaN</td>\n",
       "      <td>NaN</td>\n",
       "    </tr>\n",
       "    <tr>\n",
       "      <th>4</th>\n",
       "      <td>4</td>\n",
       "      <td>2022 ain bugey valromey tour stage 2</td>\n",
       "      <td>98.060</td>\n",
       "      <td>NaN</td>\n",
       "      <td>96.1</td>\n",
       "      <td>NaN</td>\n",
       "      <td>98.0</td>\n",
       "      <td>NaN</td>\n",
       "      <td>NaN</td>\n",
       "      <td>NaN</td>\n",
       "      <td>1.96</td>\n",
       "      <td>NaN</td>\n",
       "      <td>NaN</td>\n",
       "      <td>NaN</td>\n",
       "      <td>NaN</td>\n",
       "      <td>NaN</td>\n",
       "      <td>NaN</td>\n",
       "      <td>NaN</td>\n",
       "    </tr>\n",
       "  </tbody>\n",
       "</table>\n",
       "</div>"
      ],
      "text/plain": [
       "   Unnamed: 0                             Race Name  pct_distance  pct_street  \\\n",
       "0           0    2022 a travers les hauts de france       117.440        2.44   \n",
       "1           1     2022 ag tour de la semois stage 1       110.560        1.56   \n",
       "2           2     2022 ag tour de la semois stage 2       113.260        5.55   \n",
       "3           3  2022 ain bugey valromey tour stage 1       104.283         NaN   \n",
       "4           4  2022 ain bugey valromey tour stage 2        98.060         NaN   \n",
       "\n",
       "   pct_road  pct_paved  pct_asphalt  pct_path  pct_cycleway  pct_unpaved  \\\n",
       "0     115.0      11.50        106.0       NaN           NaN          NaN   \n",
       "1     109.0      14.40         96.1       NaN           NaN          NaN   \n",
       "2     101.0      11.60        101.0      2.68         4.030         1.02   \n",
       "3      88.5       3.45        101.0       NaN         0.983          NaN   \n",
       "4      96.1        NaN         98.0       NaN           NaN          NaN   \n",
       "\n",
       "   pct_state_road  pct_cobblestones  pct_unknown  pct_compacted_gravel  \\\n",
       "0             NaN               NaN          NaN                   NaN   \n",
       "1             NaN               NaN          NaN                   NaN   \n",
       "2             NaN               NaN          NaN                   NaN   \n",
       "3           14.80               NaN          NaN                   NaN   \n",
       "4            1.96               NaN          NaN                   NaN   \n",
       "\n",
       "   pct_off_grid  pct_singletrack  pct_access_road  pct_alpine  \n",
       "0           NaN              NaN              NaN         NaN  \n",
       "1           NaN              NaN              NaN         NaN  \n",
       "2           NaN              NaN              NaN         NaN  \n",
       "3           NaN              NaN              NaN         NaN  \n",
       "4           NaN              NaN              NaN         NaN  "
      ]
     },
     "execution_count": 9,
     "metadata": {},
     "output_type": "execute_result"
    }
   ],
   "source": [
    "structured_course_data['Race Name'] = structured_course_data['Race Name'].str.lower()\n",
    "structured_course_data.head()"
   ]
  },
  {
   "cell_type": "code",
   "execution_count": 10,
   "id": "0df0527f",
   "metadata": {},
   "outputs": [],
   "source": [
    "feature_df = pd.read_csv('data/race_profile_features.csv')"
   ]
  },
  {
   "cell_type": "code",
   "execution_count": 11,
   "id": "28242552",
   "metadata": {},
   "outputs": [
    {
     "data": {
      "text/html": [
       "<div>\n",
       "<style scoped>\n",
       "    .dataframe tbody tr th:only-of-type {\n",
       "        vertical-align: middle;\n",
       "    }\n",
       "\n",
       "    .dataframe tbody tr th {\n",
       "        vertical-align: top;\n",
       "    }\n",
       "\n",
       "    .dataframe thead th {\n",
       "        text-align: right;\n",
       "    }\n",
       "</style>\n",
       "<table border=\"1\" class=\"dataframe\">\n",
       "  <thead>\n",
       "    <tr style=\"text-align: right;\">\n",
       "      <th></th>\n",
       "      <th>total_distance_m</th>\n",
       "      <th>elevation_gain_m</th>\n",
       "      <th>elevation_loss_m</th>\n",
       "      <th>avg_gradient_pct</th>\n",
       "      <th>max_gradient_pct</th>\n",
       "      <th>std_gradient_pct</th>\n",
       "      <th>avg_uphill_gradient_pct</th>\n",
       "      <th>avg_downhill_gradient_pct</th>\n",
       "      <th>climbing_proportion</th>\n",
       "      <th>descending_proportion</th>\n",
       "      <th>...</th>\n",
       "      <th>pct_cycleway</th>\n",
       "      <th>pct_unpaved</th>\n",
       "      <th>pct_state_road</th>\n",
       "      <th>pct_cobblestones</th>\n",
       "      <th>pct_unknown</th>\n",
       "      <th>pct_compacted_gravel</th>\n",
       "      <th>pct_off_grid</th>\n",
       "      <th>pct_singletrack</th>\n",
       "      <th>pct_access_road</th>\n",
       "      <th>pct_alpine</th>\n",
       "    </tr>\n",
       "  </thead>\n",
       "  <tbody>\n",
       "    <tr>\n",
       "      <th>0</th>\n",
       "      <td>192200.0</td>\n",
       "      <td>704.090843</td>\n",
       "      <td>662.090843</td>\n",
       "      <td>0.021852</td>\n",
       "      <td>10.135114</td>\n",
       "      <td>1.311374</td>\n",
       "      <td>4.119957</td>\n",
       "      <td>-4.275384</td>\n",
       "      <td>0.020552</td>\n",
       "      <td>0.017170</td>\n",
       "      <td>...</td>\n",
       "      <td>NaN</td>\n",
       "      <td>NaN</td>\n",
       "      <td>NaN</td>\n",
       "      <td>NaN</td>\n",
       "      <td>NaN</td>\n",
       "      <td>NaN</td>\n",
       "      <td>NaN</td>\n",
       "      <td>NaN</td>\n",
       "      <td>NaN</td>\n",
       "      <td>NaN</td>\n",
       "    </tr>\n",
       "    <tr>\n",
       "      <th>1</th>\n",
       "      <td>197500.0</td>\n",
       "      <td>2117.482644</td>\n",
       "      <td>2128.482644</td>\n",
       "      <td>-0.005570</td>\n",
       "      <td>23.214817</td>\n",
       "      <td>3.936218</td>\n",
       "      <td>7.883910</td>\n",
       "      <td>-6.331164</td>\n",
       "      <td>0.103291</td>\n",
       "      <td>0.115696</td>\n",
       "      <td>...</td>\n",
       "      <td>2.67</td>\n",
       "      <td>NaN</td>\n",
       "      <td>5.58</td>\n",
       "      <td>0.122</td>\n",
       "      <td>0.366</td>\n",
       "      <td>NaN</td>\n",
       "      <td>0.366</td>\n",
       "      <td>NaN</td>\n",
       "      <td>NaN</td>\n",
       "      <td>NaN</td>\n",
       "    </tr>\n",
       "    <tr>\n",
       "      <th>2</th>\n",
       "      <td>146800.0</td>\n",
       "      <td>530.212581</td>\n",
       "      <td>536.212581</td>\n",
       "      <td>-0.004087</td>\n",
       "      <td>15.342800</td>\n",
       "      <td>1.469611</td>\n",
       "      <td>5.034483</td>\n",
       "      <td>-4.858354</td>\n",
       "      <td>0.026226</td>\n",
       "      <td>0.027929</td>\n",
       "      <td>...</td>\n",
       "      <td>NaN</td>\n",
       "      <td>NaN</td>\n",
       "      <td>122.00</td>\n",
       "      <td>NaN</td>\n",
       "      <td>NaN</td>\n",
       "      <td>NaN</td>\n",
       "      <td>NaN</td>\n",
       "      <td>NaN</td>\n",
       "      <td>NaN</td>\n",
       "      <td>NaN</td>\n",
       "    </tr>\n",
       "    <tr>\n",
       "      <th>3</th>\n",
       "      <td>114850.0</td>\n",
       "      <td>129.460974</td>\n",
       "      <td>134.460974</td>\n",
       "      <td>-0.004354</td>\n",
       "      <td>6.701216</td>\n",
       "      <td>0.627047</td>\n",
       "      <td>3.937470</td>\n",
       "      <td>-3.853359</td>\n",
       "      <td>0.003483</td>\n",
       "      <td>0.004354</td>\n",
       "      <td>...</td>\n",
       "      <td>NaN</td>\n",
       "      <td>NaN</td>\n",
       "      <td>NaN</td>\n",
       "      <td>NaN</td>\n",
       "      <td>NaN</td>\n",
       "      <td>NaN</td>\n",
       "      <td>NaN</td>\n",
       "      <td>NaN</td>\n",
       "      <td>NaN</td>\n",
       "      <td>NaN</td>\n",
       "    </tr>\n",
       "    <tr>\n",
       "      <th>4</th>\n",
       "      <td>149800.0</td>\n",
       "      <td>1148.663969</td>\n",
       "      <td>399.059374</td>\n",
       "      <td>0.500404</td>\n",
       "      <td>20.583697</td>\n",
       "      <td>2.463394</td>\n",
       "      <td>8.250595</td>\n",
       "      <td>-5.135312</td>\n",
       "      <td>0.061749</td>\n",
       "      <td>0.008011</td>\n",
       "      <td>...</td>\n",
       "      <td>NaN</td>\n",
       "      <td>NaN</td>\n",
       "      <td>106.00</td>\n",
       "      <td>0.180</td>\n",
       "      <td>1.120</td>\n",
       "      <td>NaN</td>\n",
       "      <td>1.080</td>\n",
       "      <td>NaN</td>\n",
       "      <td>0.309</td>\n",
       "      <td>NaN</td>\n",
       "    </tr>\n",
       "  </tbody>\n",
       "</table>\n",
       "<p>5 rows × 29 columns</p>\n",
       "</div>"
      ],
      "text/plain": [
       "   total_distance_m  elevation_gain_m  elevation_loss_m  avg_gradient_pct  \\\n",
       "0          192200.0        704.090843        662.090843          0.021852   \n",
       "1          197500.0       2117.482644       2128.482644         -0.005570   \n",
       "2          146800.0        530.212581        536.212581         -0.004087   \n",
       "3          114850.0        129.460974        134.460974         -0.004354   \n",
       "4          149800.0       1148.663969        399.059374          0.500404   \n",
       "\n",
       "   max_gradient_pct  std_gradient_pct  avg_uphill_gradient_pct  \\\n",
       "0         10.135114          1.311374                 4.119957   \n",
       "1         23.214817          3.936218                 7.883910   \n",
       "2         15.342800          1.469611                 5.034483   \n",
       "3          6.701216          0.627047                 3.937470   \n",
       "4         20.583697          2.463394                 8.250595   \n",
       "\n",
       "   avg_downhill_gradient_pct  climbing_proportion  descending_proportion  ...  \\\n",
       "0                  -4.275384             0.020552               0.017170  ...   \n",
       "1                  -6.331164             0.103291               0.115696  ...   \n",
       "2                  -4.858354             0.026226               0.027929  ...   \n",
       "3                  -3.853359             0.003483               0.004354  ...   \n",
       "4                  -5.135312             0.061749               0.008011  ...   \n",
       "\n",
       "  pct_cycleway  pct_unpaved pct_state_road  pct_cobblestones  pct_unknown  \\\n",
       "0          NaN          NaN            NaN               NaN          NaN   \n",
       "1         2.67          NaN           5.58             0.122        0.366   \n",
       "2          NaN          NaN         122.00               NaN          NaN   \n",
       "3          NaN          NaN            NaN               NaN          NaN   \n",
       "4          NaN          NaN         106.00             0.180        1.120   \n",
       "\n",
       "   pct_compacted_gravel  pct_off_grid  pct_singletrack  pct_access_road  \\\n",
       "0                   NaN           NaN              NaN              NaN   \n",
       "1                   NaN         0.366              NaN              NaN   \n",
       "2                   NaN           NaN              NaN              NaN   \n",
       "3                   NaN           NaN              NaN              NaN   \n",
       "4                   NaN         1.080              NaN            0.309   \n",
       "\n",
       "   pct_alpine  \n",
       "0         NaN  \n",
       "1         NaN  \n",
       "2         NaN  \n",
       "3         NaN  \n",
       "4         NaN  \n",
       "\n",
       "[5 rows x 29 columns]"
      ]
     },
     "execution_count": 11,
     "metadata": {},
     "output_type": "execute_result"
    }
   ],
   "source": [
    "# Assuming the 'name' column exists in both DataFrames, we merge on 'name'\n",
    "merged_df = pd.merge(feature_df, structured_course_data, left_on='name', right_on='Race Name', how='left')\n",
    "\n",
    "merged_df.head()"
   ]
  },
  {
   "cell_type": "code",
   "execution_count": 12,
   "id": "3d82832c",
   "metadata": {},
   "outputs": [
    {
     "data": {
      "text/plain": [
       "0          NaN\n",
       "1       1862.0\n",
       "2       1863.0\n",
       "3       1864.0\n",
       "4       1865.0\n",
       "         ...  \n",
       "8087    1856.0\n",
       "8088    1857.0\n",
       "8089    1858.0\n",
       "8090    1859.0\n",
       "8091    1860.0\n",
       "Name: Unnamed: 0, Length: 8092, dtype: float64"
      ]
     },
     "execution_count": 12,
     "metadata": {},
     "output_type": "execute_result"
    }
   ],
   "source": [
    "merged_df['Unnamed: 0']"
   ]
  },
  {
   "cell_type": "code",
   "execution_count": 13,
   "id": "bba885f6",
   "metadata": {},
   "outputs": [
    {
     "name": "stdout",
     "output_type": "stream",
     "text": [
      "Index(['total_distance_m', 'elevation_gain_m', 'elevation_loss_m',\n",
      "       'avg_gradient_pct', 'max_gradient_pct', 'std_gradient_pct',\n",
      "       'avg_uphill_gradient_pct', 'avg_downhill_gradient_pct',\n",
      "       'climbing_proportion', 'descending_proportion', 'name', 'Unnamed: 0',\n",
      "       'Race Name', 'pct_distance', 'pct_street', 'pct_road', 'pct_paved',\n",
      "       'pct_asphalt', 'pct_path', 'pct_cycleway', 'pct_unpaved',\n",
      "       'pct_state_road', 'pct_cobblestones', 'pct_unknown',\n",
      "       'pct_compacted_gravel', 'pct_off_grid', 'pct_singletrack',\n",
      "       'pct_access_road', 'pct_alpine'],\n",
      "      dtype='object')\n"
     ]
    }
   ],
   "source": [
    "print(merged_df.columns)"
   ]
  },
  {
   "cell_type": "code",
   "execution_count": 14,
   "id": "564c011e",
   "metadata": {},
   "outputs": [],
   "source": [
    "from sklearn.preprocessing import StandardScaler\n",
    "\n",
    "# Normalize the feature matrix (excluding 'name' column)\n",
    "scaler = StandardScaler()\n",
    "feature_columns = [\n",
    "    'total_distance_m', 'elevation_gain_m', 'elevation_loss_m',\n",
    "       'avg_gradient_pct', 'max_gradient_pct', 'std_gradient_pct',\n",
    "       'avg_uphill_gradient_pct', 'avg_downhill_gradient_pct',\n",
    "       'climbing_proportion', 'descending_proportion',\n",
    "       'pct_distance', 'pct_street', 'pct_road', 'pct_paved',\n",
    "       'pct_asphalt', 'pct_path', 'pct_cycleway', 'pct_unpaved',\n",
    "       'pct_state_road', 'pct_cobblestones', 'pct_unknown',\n",
    "       'pct_compacted_gravel', 'pct_off_grid', 'pct_singletrack',\n",
    "       'pct_access_road', 'pct_alpine'\n",
    "]\n",
    "\n",
    "# Apply scaling\n",
    "scaled_features = scaler.fit_transform(merged_df[feature_columns])\n",
    "\n",
    "# Replace original columns with normalized values\n",
    "normalized_df = pd.DataFrame(scaled_features, columns=feature_columns)\n",
    "normalized_df['name'] = merged_df['name']\n"
   ]
  },
  {
   "cell_type": "code",
   "execution_count": 15,
   "id": "d4a78f20",
   "metadata": {},
   "outputs": [],
   "source": [
    "normalized_df_filled = normalized_df.fillna(0)"
   ]
  },
  {
   "cell_type": "code",
   "execution_count": 16,
   "id": "0e869b81",
   "metadata": {},
   "outputs": [],
   "source": [
    "from sklearn.metrics.pairwise import cosine_similarity\n",
    "import pandas as pd\n",
    "\n",
    "# Assume normalized_df is your DataFrame with normalized features and 'name' column\n",
    "feature_matrix = normalized_df_filled.drop(columns=['name']).values\n",
    "race_names = normalized_df_filled['name'].values\n",
    "\n",
    "# Compute pairwise cosine similarity matrix\n",
    "cos_sim_matrix = cosine_similarity(feature_matrix)\n",
    "\n",
    "# Create a DataFrame for readability\n",
    "cos_sim_df = pd.DataFrame(cos_sim_matrix, index=race_names, columns=race_names)\n"
   ]
  },
  {
   "cell_type": "code",
   "execution_count": 17,
   "id": "1c60029a",
   "metadata": {},
   "outputs": [
    {
     "data": {
      "text/plain": [
       "2019 paris-roubaix                              0.998301\n",
       "2018 paris - roubaix                            0.990967\n",
       "2018 paris - roubaix espoirs                    0.960066\n",
       "2023 paris-roubaix espoirs                      0.919108\n",
       "2023 grand prix de denain - porte du hainaut    0.913616\n",
       "Name: 2023 paris-roubaix, dtype: float64"
      ]
     },
     "execution_count": 17,
     "metadata": {},
     "output_type": "execute_result"
    }
   ],
   "source": [
    "def get_top_similar_races(race_name, top_n=5):\n",
    "    if race_name not in cos_sim_df.index:\n",
    "        print(\"Race not found.\")\n",
    "        return []\n",
    "    \n",
    "    similarities = cos_sim_df.loc[race_name].drop(race_name)\n",
    "    return similarities.sort_values(ascending=False).head(top_n)\n",
    "\n",
    "# Example usage\n",
    "get_top_similar_races(\"2023 paris-roubaix\")\n"
   ]
  },
  {
   "cell_type": "code",
   "execution_count": 18,
   "id": "f61c04e2",
   "metadata": {},
   "outputs": [
    {
     "data": {
      "text/plain": [
       "2021 tour de suisse stage 1            0.995163\n",
       "2019 uae tour stage 1                  0.991430\n",
       "2018 boels ladies tour stage 5         0.976560\n",
       "2020 visegrad 4 juniors stage 2-1      0.961724\n",
       "2022 epz omloop van borsele stage 3    0.958771\n",
       "Name: 2022 tour de france stage 1, dtype: float64"
      ]
     },
     "execution_count": 18,
     "metadata": {},
     "output_type": "execute_result"
    }
   ],
   "source": [
    "get_top_similar_races(\"2022 tour de france stage 1\")"
   ]
  },
  {
   "cell_type": "code",
   "execution_count": 19,
   "id": "966ed0ac",
   "metadata": {},
   "outputs": [
    {
     "name": "stderr",
     "output_type": "stream",
     "text": [
      "c:\\Users\\JBrea\\pro-cycling-analysis\\venv\\Lib\\site-packages\\tqdm\\auto.py:21: TqdmWarning: IProgress not found. Please update jupyter and ipywidgets. See https://ipywidgets.readthedocs.io/en/stable/user_install.html\n",
      "  from .autonotebook import tqdm as notebook_tqdm\n",
      "c:\\Users\\JBrea\\pro-cycling-analysis\\venv\\Lib\\site-packages\\sklearn\\utils\\deprecation.py:151: FutureWarning: 'force_all_finite' was renamed to 'ensure_all_finite' in 1.6 and will be removed in 1.8.\n",
      "  warnings.warn(\n",
      "c:\\Users\\JBrea\\pro-cycling-analysis\\venv\\Lib\\site-packages\\umap\\umap_.py:1952: UserWarning: n_jobs value 1 overridden to 1 by setting random_state. Use no seed for parallelism.\n",
      "  warn(\n"
     ]
    }
   ],
   "source": [
    "import umap\n",
    "from sklearn.decomposition import PCA\n",
    "import plotly.express as px\n",
    "import pandas as pd\n",
    "from sklearn.cluster import KMeans\n",
    "\n",
    "# Assuming your normalized DataFrame is called normalized_df_filled\n",
    "feature_cols = normalized_df_filled.columns.drop('name')\n",
    "X = normalized_df_filled[feature_cols].values\n",
    "\n",
    "# 1. PCA: Reduce to 2D\n",
    "pca = PCA(n_components=2)\n",
    "X_pca = pca.fit_transform(X)\n",
    "\n",
    "# 2. UMAP: Reduce to 2D\n",
    "umap_model = umap.UMAP(n_components=2, random_state=42)\n",
    "X_umap = umap_model.fit_transform(X)\n",
    "\n",
    "# 3. Clustering (e.g., 5 clusters)\n",
    "kmeans = KMeans(n_clusters=5, random_state=42)\n",
    "clusters = kmeans.fit_predict(X)\n",
    "\n",
    "\n"
   ]
  },
  {
   "cell_type": "code",
   "execution_count": 20,
   "id": "b13b43e7",
   "metadata": {},
   "outputs": [],
   "source": [
    "# 4. Build DataFrame for plotting\n",
    "plot_df = pd.DataFrame({\n",
    "    'race_name': normalized_df_filled['name'],\n",
    "    'cluster': clusters,\n",
    "    'PCA_1': X_pca[:, 0],\n",
    "    'PCA_2': X_pca[:, 1],\n",
    "    'UMAP_1': X_umap[:, 0],\n",
    "    'UMAP_2': X_umap[:, 1]\n",
    "})\n",
    "\n",
    "# Add features to hover info\n",
    "for col in ['total_distance_m', 'elevation_gain_m', 'avg_gradient_pct', 'climbing_proportion']:\n",
    "    if col in normalized_df_filled.columns:\n",
    "        plot_df[col] = normalized_df_filled[col]\n",
    "\n",
    "# 5. Plot PCA\n",
    "fig_pca = px.scatter(\n",
    "    plot_df,\n",
    "    x='PCA_1', y='PCA_2',\n",
    "    color='cluster',\n",
    "    hover_data=['race_name', 'total_distance_m', 'elevation_gain_m', 'avg_gradient_pct', 'climbing_proportion'],\n",
    "    title=\"PCA (Race Clusters)\",\n",
    "    opacity=0.8\n",
    ")\n",
    "\n",
    "# 6. Plot UMAP\n",
    "fig_umap = px.scatter(\n",
    "    plot_df,\n",
    "    x='UMAP_1', y='UMAP_2',\n",
    "    color='cluster',\n",
    "    hover_data=['race_name', 'total_distance_m', 'elevation_gain_m', 'avg_gradient_pct', 'climbing_proportion'],\n",
    "    title=\"UMAP (Race Clusters)\",\n",
    "    opacity=0.8\n",
    ")\n",
    "\n"
   ]
  },
  {
   "cell_type": "code",
   "execution_count": null,
   "id": "81f4090a",
   "metadata": {},
   "outputs": [],
   "source": [
    "# Save PCA plot to HTML\n",
    "fig_pca.write_html(\"outputs/pca_plot.html\")\n",
    "\n",
    "# Save UMAP plot to HTML\n",
    "fig_umap.write_html(\"outputs/umap_plot.html\")"
   ]
  },
  {
   "cell_type": "code",
   "execution_count": 21,
   "id": "bf4eb7fa",
   "metadata": {},
   "outputs": [
    {
     "data": {
      "application/vnd.plotly.v1+json": {
       "config": {
        "plotlyServerURL": "https://plot.ly"
       },
       "data": [
        {
         "customdata": [
          "data:image/png;base64,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",
          "data:image/png;base64,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",
          "data:image/png;base64,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"
         ],
         "hovertemplate": "<b>%{hovertext}</b><br><img src='%{customdata}' width='200' height='150'><br><extra></extra>",
         "hovertext": [
          "Race 1",
          "Race 2",
          "Race 3"
         ],
         "legendgroup": "",
         "marker": {
          "color": "#636efa",
          "symbol": "circle"
         },
         "mode": "markers",
         "name": "",
         "orientation": "v",
         "showlegend": false,
         "type": "scatter",
         "x": [
          [
           0,
           5000,
           10000,
           15000,
           20000
          ],
          [
           0,
           4000,
           8000,
           12000,
           16000
          ],
          [
           0,
           6000,
           12000,
           18000,
           24000
          ]
         ],
         "xaxis": "x",
         "y": [
          [
           0,
           50,
           100,
           200,
           250
          ],
          [
           0,
           30,
           70,
           120,
           150
          ],
          [
           0,
           60,
           120,
           180,
           240
          ]
         ],
         "yaxis": "y"
        }
       ],
       "layout": {
        "legend": {
         "tracegroupgap": 0
        },
        "template": {
         "data": {
          "bar": [
           {
            "error_x": {
             "color": "#2a3f5f"
            },
            "error_y": {
             "color": "#2a3f5f"
            },
            "marker": {
             "line": {
              "color": "#E5ECF6",
              "width": 0.5
             },
             "pattern": {
              "fillmode": "overlay",
              "size": 10,
              "solidity": 0.2
             }
            },
            "type": "bar"
           }
          ],
          "barpolar": [
           {
            "marker": {
             "line": {
              "color": "#E5ECF6",
              "width": 0.5
             },
             "pattern": {
              "fillmode": "overlay",
              "size": 10,
              "solidity": 0.2
             }
            },
            "type": "barpolar"
           }
          ],
          "carpet": [
           {
            "aaxis": {
             "endlinecolor": "#2a3f5f",
             "gridcolor": "white",
             "linecolor": "white",
             "minorgridcolor": "white",
             "startlinecolor": "#2a3f5f"
            },
            "baxis": {
             "endlinecolor": "#2a3f5f",
             "gridcolor": "white",
             "linecolor": "white",
             "minorgridcolor": "white",
             "startlinecolor": "#2a3f5f"
            },
            "type": "carpet"
           }
          ],
          "choropleth": [
           {
            "colorbar": {
             "outlinewidth": 0,
             "ticks": ""
            },
            "type": "choropleth"
           }
          ],
          "contour": [
           {
            "colorbar": {
             "outlinewidth": 0,
             "ticks": ""
            },
            "colorscale": [
             [
              0,
              "#0d0887"
             ],
             [
              0.1111111111111111,
              "#46039f"
             ],
             [
              0.2222222222222222,
              "#7201a8"
             ],
             [
              0.3333333333333333,
              "#9c179e"
             ],
             [
              0.4444444444444444,
              "#bd3786"
             ],
             [
              0.5555555555555556,
              "#d8576b"
             ],
             [
              0.6666666666666666,
              "#ed7953"
             ],
             [
              0.7777777777777778,
              "#fb9f3a"
             ],
             [
              0.8888888888888888,
              "#fdca26"
             ],
             [
              1,
              "#f0f921"
             ]
            ],
            "type": "contour"
           }
          ],
          "contourcarpet": [
           {
            "colorbar": {
             "outlinewidth": 0,
             "ticks": ""
            },
            "type": "contourcarpet"
           }
          ],
          "heatmap": [
           {
            "colorbar": {
             "outlinewidth": 0,
             "ticks": ""
            },
            "colorscale": [
             [
              0,
              "#0d0887"
             ],
             [
              0.1111111111111111,
              "#46039f"
             ],
             [
              0.2222222222222222,
              "#7201a8"
             ],
             [
              0.3333333333333333,
              "#9c179e"
             ],
             [
              0.4444444444444444,
              "#bd3786"
             ],
             [
              0.5555555555555556,
              "#d8576b"
             ],
             [
              0.6666666666666666,
              "#ed7953"
             ],
             [
              0.7777777777777778,
              "#fb9f3a"
             ],
             [
              0.8888888888888888,
              "#fdca26"
             ],
             [
              1,
              "#f0f921"
             ]
            ],
            "type": "heatmap"
           }
          ],
          "histogram": [
           {
            "marker": {
             "pattern": {
              "fillmode": "overlay",
              "size": 10,
              "solidity": 0.2
             }
            },
            "type": "histogram"
           }
          ],
          "histogram2d": [
           {
            "colorbar": {
             "outlinewidth": 0,
             "ticks": ""
            },
            "colorscale": [
             [
              0,
              "#0d0887"
             ],
             [
              0.1111111111111111,
              "#46039f"
             ],
             [
              0.2222222222222222,
              "#7201a8"
             ],
             [
              0.3333333333333333,
              "#9c179e"
             ],
             [
              0.4444444444444444,
              "#bd3786"
             ],
             [
              0.5555555555555556,
              "#d8576b"
             ],
             [
              0.6666666666666666,
              "#ed7953"
             ],
             [
              0.7777777777777778,
              "#fb9f3a"
             ],
             [
              0.8888888888888888,
              "#fdca26"
             ],
             [
              1,
              "#f0f921"
             ]
            ],
            "type": "histogram2d"
           }
          ],
          "histogram2dcontour": [
           {
            "colorbar": {
             "outlinewidth": 0,
             "ticks": ""
            },
            "colorscale": [
             [
              0,
              "#0d0887"
             ],
             [
              0.1111111111111111,
              "#46039f"
             ],
             [
              0.2222222222222222,
              "#7201a8"
             ],
             [
              0.3333333333333333,
              "#9c179e"
             ],
             [
              0.4444444444444444,
              "#bd3786"
             ],
             [
              0.5555555555555556,
              "#d8576b"
             ],
             [
              0.6666666666666666,
              "#ed7953"
             ],
             [
              0.7777777777777778,
              "#fb9f3a"
             ],
             [
              0.8888888888888888,
              "#fdca26"
             ],
             [
              1,
              "#f0f921"
             ]
            ],
            "type": "histogram2dcontour"
           }
          ],
          "mesh3d": [
           {
            "colorbar": {
             "outlinewidth": 0,
             "ticks": ""
            },
            "type": "mesh3d"
           }
          ],
          "parcoords": [
           {
            "line": {
             "colorbar": {
              "outlinewidth": 0,
              "ticks": ""
             }
            },
            "type": "parcoords"
           }
          ],
          "pie": [
           {
            "automargin": true,
            "type": "pie"
           }
          ],
          "scatter": [
           {
            "fillpattern": {
             "fillmode": "overlay",
             "size": 10,
             "solidity": 0.2
            },
            "type": "scatter"
           }
          ],
          "scatter3d": [
           {
            "line": {
             "colorbar": {
              "outlinewidth": 0,
              "ticks": ""
             }
            },
            "marker": {
             "colorbar": {
              "outlinewidth": 0,
              "ticks": ""
             }
            },
            "type": "scatter3d"
           }
          ],
          "scattercarpet": [
           {
            "marker": {
             "colorbar": {
              "outlinewidth": 0,
              "ticks": ""
             }
            },
            "type": "scattercarpet"
           }
          ],
          "scattergeo": [
           {
            "marker": {
             "colorbar": {
              "outlinewidth": 0,
              "ticks": ""
             }
            },
            "type": "scattergeo"
           }
          ],
          "scattergl": [
           {
            "marker": {
             "colorbar": {
              "outlinewidth": 0,
              "ticks": ""
             }
            },
            "type": "scattergl"
           }
          ],
          "scattermap": [
           {
            "marker": {
             "colorbar": {
              "outlinewidth": 0,
              "ticks": ""
             }
            },
            "type": "scattermap"
           }
          ],
          "scattermapbox": [
           {
            "marker": {
             "colorbar": {
              "outlinewidth": 0,
              "ticks": ""
             }
            },
            "type": "scattermapbox"
           }
          ],
          "scatterpolar": [
           {
            "marker": {
             "colorbar": {
              "outlinewidth": 0,
              "ticks": ""
             }
            },
            "type": "scatterpolar"
           }
          ],
          "scatterpolargl": [
           {
            "marker": {
             "colorbar": {
              "outlinewidth": 0,
              "ticks": ""
             }
            },
            "type": "scatterpolargl"
           }
          ],
          "scatterternary": [
           {
            "marker": {
             "colorbar": {
              "outlinewidth": 0,
              "ticks": ""
             }
            },
            "type": "scatterternary"
           }
          ],
          "surface": [
           {
            "colorbar": {
             "outlinewidth": 0,
             "ticks": ""
            },
            "colorscale": [
             [
              0,
              "#0d0887"
             ],
             [
              0.1111111111111111,
              "#46039f"
             ],
             [
              0.2222222222222222,
              "#7201a8"
             ],
             [
              0.3333333333333333,
              "#9c179e"
             ],
             [
              0.4444444444444444,
              "#bd3786"
             ],
             [
              0.5555555555555556,
              "#d8576b"
             ],
             [
              0.6666666666666666,
              "#ed7953"
             ],
             [
              0.7777777777777778,
              "#fb9f3a"
             ],
             [
              0.8888888888888888,
              "#fdca26"
             ],
             [
              1,
              "#f0f921"
             ]
            ],
            "type": "surface"
           }
          ],
          "table": [
           {
            "cells": {
             "fill": {
              "color": "#EBF0F8"
             },
             "line": {
              "color": "white"
             }
            },
            "header": {
             "fill": {
              "color": "#C8D4E3"
             },
             "line": {
              "color": "white"
             }
            },
            "type": "table"
           }
          ]
         },
         "layout": {
          "annotationdefaults": {
           "arrowcolor": "#2a3f5f",
           "arrowhead": 0,
           "arrowwidth": 1
          },
          "autotypenumbers": "strict",
          "coloraxis": {
           "colorbar": {
            "outlinewidth": 0,
            "ticks": ""
           }
          },
          "colorscale": {
           "diverging": [
            [
             0,
             "#8e0152"
            ],
            [
             0.1,
             "#c51b7d"
            ],
            [
             0.2,
             "#de77ae"
            ],
            [
             0.3,
             "#f1b6da"
            ],
            [
             0.4,
             "#fde0ef"
            ],
            [
             0.5,
             "#f7f7f7"
            ],
            [
             0.6,
             "#e6f5d0"
            ],
            [
             0.7,
             "#b8e186"
            ],
            [
             0.8,
             "#7fbc41"
            ],
            [
             0.9,
             "#4d9221"
            ],
            [
             1,
             "#276419"
            ]
           ],
           "sequential": [
            [
             0,
             "#0d0887"
            ],
            [
             0.1111111111111111,
             "#46039f"
            ],
            [
             0.2222222222222222,
             "#7201a8"
            ],
            [
             0.3333333333333333,
             "#9c179e"
            ],
            [
             0.4444444444444444,
             "#bd3786"
            ],
            [
             0.5555555555555556,
             "#d8576b"
            ],
            [
             0.6666666666666666,
             "#ed7953"
            ],
            [
             0.7777777777777778,
             "#fb9f3a"
            ],
            [
             0.8888888888888888,
             "#fdca26"
            ],
            [
             1,
             "#f0f921"
            ]
           ],
           "sequentialminus": [
            [
             0,
             "#0d0887"
            ],
            [
             0.1111111111111111,
             "#46039f"
            ],
            [
             0.2222222222222222,
             "#7201a8"
            ],
            [
             0.3333333333333333,
             "#9c179e"
            ],
            [
             0.4444444444444444,
             "#bd3786"
            ],
            [
             0.5555555555555556,
             "#d8576b"
            ],
            [
             0.6666666666666666,
             "#ed7953"
            ],
            [
             0.7777777777777778,
             "#fb9f3a"
            ],
            [
             0.8888888888888888,
             "#fdca26"
            ],
            [
             1,
             "#f0f921"
            ]
           ]
          },
          "colorway": [
           "#636efa",
           "#EF553B",
           "#00cc96",
           "#ab63fa",
           "#FFA15A",
           "#19d3f3",
           "#FF6692",
           "#B6E880",
           "#FF97FF",
           "#FECB52"
          ],
          "font": {
           "color": "#2a3f5f"
          },
          "geo": {
           "bgcolor": "white",
           "lakecolor": "white",
           "landcolor": "#E5ECF6",
           "showlakes": true,
           "showland": true,
           "subunitcolor": "white"
          },
          "hoverlabel": {
           "align": "left"
          },
          "hovermode": "closest",
          "mapbox": {
           "style": "light"
          },
          "paper_bgcolor": "white",
          "plot_bgcolor": "#E5ECF6",
          "polar": {
           "angularaxis": {
            "gridcolor": "white",
            "linecolor": "white",
            "ticks": ""
           },
           "bgcolor": "#E5ECF6",
           "radialaxis": {
            "gridcolor": "white",
            "linecolor": "white",
            "ticks": ""
           }
          },
          "scene": {
           "xaxis": {
            "backgroundcolor": "#E5ECF6",
            "gridcolor": "white",
            "gridwidth": 2,
            "linecolor": "white",
            "showbackground": true,
            "ticks": "",
            "zerolinecolor": "white"
           },
           "yaxis": {
            "backgroundcolor": "#E5ECF6",
            "gridcolor": "white",
            "gridwidth": 2,
            "linecolor": "white",
            "showbackground": true,
            "ticks": "",
            "zerolinecolor": "white"
           },
           "zaxis": {
            "backgroundcolor": "#E5ECF6",
            "gridcolor": "white",
            "gridwidth": 2,
            "linecolor": "white",
            "showbackground": true,
            "ticks": "",
            "zerolinecolor": "white"
           }
          },
          "shapedefaults": {
           "line": {
            "color": "#2a3f5f"
           }
          },
          "ternary": {
           "aaxis": {
            "gridcolor": "white",
            "linecolor": "white",
            "ticks": ""
           },
           "baxis": {
            "gridcolor": "white",
            "linecolor": "white",
            "ticks": ""
           },
           "bgcolor": "#E5ECF6",
           "caxis": {
            "gridcolor": "white",
            "linecolor": "white",
            "ticks": ""
           }
          },
          "title": {
           "x": 0.05
          },
          "xaxis": {
           "automargin": true,
           "gridcolor": "white",
           "linecolor": "white",
           "ticks": "",
           "title": {
            "standoff": 15
           },
           "zerolinecolor": "white",
           "zerolinewidth": 2
          },
          "yaxis": {
           "automargin": true,
           "gridcolor": "white",
           "linecolor": "white",
           "ticks": "",
           "title": {
            "standoff": 15
           },
           "zerolinecolor": "white",
           "zerolinewidth": 2
          }
         }
        },
        "title": {
         "text": "Race Elevation Profiles"
        },
        "xaxis": {
         "anchor": "y",
         "domain": [
          0,
          1
         ],
         "title": {
          "text": "distance"
         }
        },
        "yaxis": {
         "anchor": "x",
         "domain": [
          0,
          1
         ],
         "title": {
          "text": "elevation"
         }
        }
       }
      }
     },
     "metadata": {},
     "output_type": "display_data"
    }
   ],
   "source": [
    "import plotly.express as px\n",
    "import matplotlib.pyplot as plt\n",
    "import numpy as np\n",
    "import io\n",
    "import base64\n",
    "import pandas as pd\n",
    "\n",
    "# 1. Helper function to generate elevation profile plot\n",
    "def generate_elevation_profile(distance, elevation):\n",
    "    fig, ax = plt.subplots()\n",
    "    ax.plot(distance, elevation, color='blue')\n",
    "    ax.set_xlabel('Distance (m)')\n",
    "    ax.set_ylabel('Elevation (m)')\n",
    "    ax.set_title('Elevation Profile')\n",
    "\n",
    "    # Save plot to a BytesIO buffer and convert to base64\n",
    "    buffer = io.BytesIO()\n",
    "    fig.savefig(buffer, format='png')\n",
    "    buffer.seek(0)\n",
    "    img_str = base64.b64encode(buffer.read()).decode('utf-8')\n",
    "    plt.close(fig)\n",
    "    return f\"data:image/png;base64,{img_str}\"\n",
    "\n",
    "# 2. Example dataframe with race names, distance, and elevation\n",
    "# Replace this with your actual DataFrame\n",
    "data = {\n",
    "    'race_name': ['Race 1', 'Race 2', 'Race 3'],\n",
    "    'distance': [\n",
    "        np.array([0, 5000, 10000, 15000, 20000]),\n",
    "        np.array([0, 4000, 8000, 12000, 16000]),\n",
    "        np.array([0, 6000, 12000, 18000, 24000]),\n",
    "    ],\n",
    "    'elevation': [\n",
    "        np.array([0, 50, 100, 200, 250]),\n",
    "        np.array([0, 30, 70, 120, 150]),\n",
    "        np.array([0, 60, 120, 180, 240]),\n",
    "    ]\n",
    "}\n",
    "df = pd.DataFrame(data)\n",
    "\n",
    "# 3. Generate elevation profiles for each race and encode them\n",
    "df['elevation_profile'] = df.apply(lambda row: generate_elevation_profile(row['distance'], row['elevation']), axis=1)\n",
    "\n",
    "# 4. Create plotly scatter plot\n",
    "fig = px.scatter(\n",
    "    df,\n",
    "    x='distance', y='elevation',\n",
    "    hover_name='race_name',\n",
    "    hover_data={'distance': False, 'elevation': False},  # Don't display these columns in the hover\n",
    "    title=\"Race Elevation Profiles\"\n",
    ")\n",
    "\n",
    "# 5. Add the elevation profile images to the hover tooltips\n",
    "fig.update_traces(\n",
    "    hovertemplate=(\n",
    "        \"<b>%{hovertext}</b><br>\"  # Race name\n",
    "        \"<img src='%{customdata}' width='200' height='150'><br>\"  # Elevation profile image\n",
    "        \"<extra></extra>\"  # Hides the extra information (like trace name)\n",
    "    ),\n",
    "    customdata=df['elevation_profile']\n",
    ")\n",
    "\n",
    "# 6. Show the plot\n",
    "fig.show()\n"
   ]
  }
 ],
 "metadata": {
  "kernelspec": {
   "display_name": "venv",
   "language": "python",
   "name": "python3"
  },
  "language_info": {
   "codemirror_mode": {
    "name": "ipython",
    "version": 3
   },
   "file_extension": ".py",
   "mimetype": "text/x-python",
   "name": "python",
   "nbconvert_exporter": "python",
   "pygments_lexer": "ipython3",
   "version": "3.12.5"
  }
 },
 "nbformat": 4,
 "nbformat_minor": 5
}
